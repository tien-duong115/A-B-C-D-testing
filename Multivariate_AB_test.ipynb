{
 "cells": [
  {
   "cell_type": "markdown",
   "metadata": {},
   "source": [
    "https://scholarworks.montana.edu/xmlui/handle/1/3507"
   ]
  },
  {
   "cell_type": "markdown",
   "metadata": {},
   "source": [
    "# Read.Me\n",
    "\n",
    "What is this?\n",
    "-------------\n",
    "\n",
    "This folder contains A/B testing data that corresponds with \n",
    "the following Open Access academic research paper:\n",
    "\n",
    "Young, Scott W.H. (2014) Improving Library User Experience with A/B Testing: Principles and Process. Weave: Journal of Library User Experience. University of Michigan Library. http://dx.doi.org/10.3998/weave.12535642.0001.101\n",
    "\n",
    "\n",
    "Who created it?\n",
    "-------------\n",
    "\n",
    "This data was prepared by Scott W. H. Young, \n",
    "Digital Initiatives Librarian at Montana State University.\n",
    "\n",
    "\n",
    "How was it created?\n",
    "--------------\n",
    "\n",
    "The folder contains data exported from Google Analytics and Crazy Egg.\n",
    "\n",
    "\n",
    "How do I use it?\n",
    "----------------\n",
    "\n",
    "The subfolder named \"GoogleAnalytics\" contains 4 files:\n",
    "\t- Data from Google Analytics Users Flow, in PDF\n",
    "\t- Data from Google Analytics All Pages view, in PDF and XSL\n",
    "\t- Data from Google Analytics Experiments\n",
    "\n",
    "The subfolder named \"CrazyEgg\" contains 5 subfolders, \n",
    "one each that corresponds with an A/B test variation \n",
    "used during the experiment described in the above paper.\n",
    "Each subfolder contains 3 files:\n",
    "\t- Data visualization of user click behavior, in PDF and JPEG\n",
    "\t- Data for user click behavior, in XSL\n",
    "\n",
    "Together these files may be used to reconstruct results and\n",
    "to guide the design of additional A/B tests.\n",
    "\n",
    "\n",
    "Licensing\n",
    "----------\n",
    "\n",
    "This data is licensed CC BY-SA, http://creativecommons.org/licenses/by-sa/4.0/\n",
    "\n",
    "\n",
    "Contact\n",
    "--------\n",
    "\n",
    "For feedback and inquiry, \n",
    "\t- write swyoung@montana.edu\n",
    "\t- tweet @hei_scott\n",
    "\t- visit http://hellolibrarian.com"
   ]
  },
  {
   "cell_type": "markdown",
   "metadata": {},
   "source": [
    "# Data analysis\n",
    "\n",
    "### Objective\n",
    "To perform a brief analysis of the 5 datasets to prepare for `Multivarate-testing`\n",
    "\n",
    "### Steps\n",
    "- Load in all the library tools and dataset\n",
    "- Overview of the analysis using table visualization and structural descriptive method\n",
    "- Summary of the finding"
   ]
  },
  {
   "cell_type": "code",
   "execution_count": 1,
   "metadata": {
    "scrolled": false
   },
   "outputs": [
    {
     "name": "stderr",
     "output_type": "stream",
     "text": [
      "\n",
      "Attaching package: ‘dplyr’\n",
      "\n",
      "\n",
      "The following objects are masked from ‘package:stats’:\n",
      "\n",
      "    filter, lag\n",
      "\n",
      "\n",
      "The following objects are masked from ‘package:base’:\n",
      "\n",
      "    intersect, setdiff, setequal, union\n",
      "\n",
      "\n",
      "── \u001b[1mAttaching packages\u001b[22m ─────────────────────────────────────── tidyverse 1.3.0 ──\n",
      "\n",
      "\u001b[32m✔\u001b[39m \u001b[34mtibble \u001b[39m 3.0.3     \u001b[32m✔\u001b[39m \u001b[34mpurrr  \u001b[39m 0.3.4\n",
      "\u001b[32m✔\u001b[39m \u001b[34mtidyr  \u001b[39m 1.1.2     \u001b[32m✔\u001b[39m \u001b[34mstringr\u001b[39m 1.4.0\n",
      "\u001b[32m✔\u001b[39m \u001b[34mreadr  \u001b[39m 1.3.1     \u001b[32m✔\u001b[39m \u001b[34mforcats\u001b[39m 0.5.0\n",
      "\n",
      "── \u001b[1mConflicts\u001b[22m ────────────────────────────────────────── tidyverse_conflicts() ──\n",
      "\u001b[31m✖\u001b[39m \u001b[34mdplyr\u001b[39m::\u001b[32mfilter()\u001b[39m masks \u001b[34mstats\u001b[39m::filter()\n",
      "\u001b[31m✖\u001b[39m \u001b[34mdplyr\u001b[39m::\u001b[32mlag()\u001b[39m    masks \u001b[34mstats\u001b[39m::lag()\n",
      "\n",
      "\n",
      "Attaching package: ‘lubridate’\n",
      "\n",
      "\n",
      "The following objects are masked from ‘package:base’:\n",
      "\n",
      "    date, intersect, setdiff, union\n",
      "\n",
      "\n",
      "\n",
      "Attaching package: ‘scales’\n",
      "\n",
      "\n",
      "The following object is masked from ‘package:purrr’:\n",
      "\n",
      "    discard\n",
      "\n",
      "\n",
      "The following object is masked from ‘package:readr’:\n",
      "\n",
      "    col_factor\n",
      "\n",
      "\n"
     ]
    }
   ],
   "source": [
    "# load all the necessary library\n",
    "library(dplyr)\n",
    "library(ggplot2)\n",
    "library(tidyverse)\n",
    "library(lubridate)\n",
    "library(scales)"
   ]
  },
  {
   "cell_type": "code",
   "execution_count": 2,
   "metadata": {
    "scrolled": true
   },
   "outputs": [],
   "source": [
    "# Installing 5 different versions of page\n",
    "version_1 <- read.csv('CrazyEgg/Homepage Version 1 - Interact, 5-29-2013/Element list Homepage Version 1 - Interact, 5-29-2013.csv')\n",
    "version_2 <- read.csv('CrazyEgg/Homepage Version 2 - Connect, 5-29-2013/Element list Homepage Version 2 - Connect, 5-29-2013.csv')\n",
    "version_3 <- read.csv('CrazyEgg/Homepage Version 3 - Learn, 5-29-2013/Element list Homepage Version 3 - Learn, 5-29-2013.csv')\n",
    "version_4 <- read.csv('CrazyEgg/Homepage Version 4 - Help, 5-29-2013/Element list Homepage Version 4 - Help, 5-29-2013.csv')\n",
    "version_5 <- read.csv('CrazyEgg/Homepage Version 5 - Services, 5-29-2013/Element list Homepage Version 5 - Services, 5-29-2013.csv')"
   ]
  },
  {
   "cell_type": "markdown",
   "metadata": {},
   "source": [
    "#### Systematically visualize the 5 different versions of dataset"
   ]
  },
  {
   "cell_type": "code",
   "execution_count": 3,
   "metadata": {
    "scrolled": true
   },
   "outputs": [
    {
     "data": {
      "text/html": [
       "<table class=\"dataframe\">\n",
       "<caption>A data.frame: 2 × 6</caption>\n",
       "<thead>\n",
       "\t<tr><th></th><th scope=col>Element.ID</th><th scope=col>Tag.name</th><th scope=col>Name</th><th scope=col>No..clicks</th><th scope=col>Visible.</th><th scope=col>Snapshot.information</th></tr>\n",
       "\t<tr><th></th><th scope=col>&lt;int&gt;</th><th scope=col>&lt;chr&gt;</th><th scope=col>&lt;chr&gt;</th><th scope=col>&lt;int&gt;</th><th scope=col>&lt;chr&gt;</th><th scope=col>&lt;chr&gt;</th></tr>\n",
       "</thead>\n",
       "<tbody>\n",
       "\t<tr><th scope=row>1</th><td>128</td><td>area</td><td>Montana State University - Home</td><td>1291</td><td>false</td><td>Homepage Version 1 - Interact   •   http://www.lib.montana.edu/index.php       </td></tr>\n",
       "\t<tr><th scope=row>2</th><td> 69</td><td>a   </td><td>FIND                           </td><td> 842</td><td>true </td><td>created 5-29-2013   •   20 days 4 hours 21 mins   •   10283 visits, 3714 clicks</td></tr>\n",
       "</tbody>\n",
       "</table>\n"
      ],
      "text/latex": [
       "A data.frame: 2 × 6\n",
       "\\begin{tabular}{r|llllll}\n",
       "  & Element.ID & Tag.name & Name & No..clicks & Visible. & Snapshot.information\\\\\n",
       "  & <int> & <chr> & <chr> & <int> & <chr> & <chr>\\\\\n",
       "\\hline\n",
       "\t1 & 128 & area & Montana State University - Home & 1291 & false & Homepage Version 1 - Interact   •   http://www.lib.montana.edu/index.php       \\\\\n",
       "\t2 &  69 & a    & FIND                            &  842 & true  & created 5-29-2013   •   20 days 4 hours 21 mins   •   10283 visits, 3714 clicks\\\\\n",
       "\\end{tabular}\n"
      ],
      "text/markdown": [
       "\n",
       "A data.frame: 2 × 6\n",
       "\n",
       "| <!--/--> | Element.ID &lt;int&gt; | Tag.name &lt;chr&gt; | Name &lt;chr&gt; | No..clicks &lt;int&gt; | Visible. &lt;chr&gt; | Snapshot.information &lt;chr&gt; |\n",
       "|---|---|---|---|---|---|---|\n",
       "| 1 | 128 | area | Montana State University - Home | 1291 | false | Homepage Version 1 - Interact   •   http://www.lib.montana.edu/index.php        |\n",
       "| 2 |  69 | a    | FIND                            |  842 | true  | created 5-29-2013   •   20 days 4 hours 21 mins   •   10283 visits, 3714 clicks |\n",
       "\n"
      ],
      "text/plain": [
       "  Element.ID Tag.name Name                            No..clicks Visible.\n",
       "1 128        area     Montana State University - Home 1291       false   \n",
       "2  69        a        FIND                             842       true    \n",
       "  Snapshot.information                                                           \n",
       "1 Homepage Version 1 - Interact   •   http://www.lib.montana.edu/index.php       \n",
       "2 created 5-29-2013   •   20 days 4 hours 21 mins   •   10283 visits, 3714 clicks"
      ]
     },
     "metadata": {},
     "output_type": "display_data"
    }
   ],
   "source": [
    "head(version_1,2)"
   ]
  },
  {
   "cell_type": "code",
   "execution_count": 4,
   "metadata": {
    "scrolled": true
   },
   "outputs": [
    {
     "data": {
      "text/html": [
       "<table class=\"dataframe\">\n",
       "<caption>A data.frame: 2 × 6</caption>\n",
       "<thead>\n",
       "\t<tr><th></th><th scope=col>Element.ID</th><th scope=col>Tag.name</th><th scope=col>Name</th><th scope=col>No..clicks</th><th scope=col>Visible.</th><th scope=col>Snapshot.information</th></tr>\n",
       "\t<tr><th></th><th scope=col>&lt;int&gt;</th><th scope=col>&lt;chr&gt;</th><th scope=col>&lt;chr&gt;</th><th scope=col>&lt;int&gt;</th><th scope=col>&lt;chr&gt;</th><th scope=col>&lt;chr&gt;</th></tr>\n",
       "</thead>\n",
       "<tbody>\n",
       "\t<tr><th scope=row>1</th><td>74</td><td>a    </td><td>FIND</td><td>502</td><td>true</td><td>Homepage Version 2 - Connect   •   http://www.lib.montana.edu/index2.php      </td></tr>\n",
       "\t<tr><th scope=row>2</th><td>66</td><td>input</td><td>s.q </td><td>357</td><td>true</td><td>created 5-29-2013   •   20 days 7 hours 34 mins   •   2742 visits, 1587 clicks</td></tr>\n",
       "</tbody>\n",
       "</table>\n"
      ],
      "text/latex": [
       "A data.frame: 2 × 6\n",
       "\\begin{tabular}{r|llllll}\n",
       "  & Element.ID & Tag.name & Name & No..clicks & Visible. & Snapshot.information\\\\\n",
       "  & <int> & <chr> & <chr> & <int> & <chr> & <chr>\\\\\n",
       "\\hline\n",
       "\t1 & 74 & a     & FIND & 502 & true & Homepage Version 2 - Connect   •   http://www.lib.montana.edu/index2.php      \\\\\n",
       "\t2 & 66 & input & s.q  & 357 & true & created 5-29-2013   •   20 days 7 hours 34 mins   •   2742 visits, 1587 clicks\\\\\n",
       "\\end{tabular}\n"
      ],
      "text/markdown": [
       "\n",
       "A data.frame: 2 × 6\n",
       "\n",
       "| <!--/--> | Element.ID &lt;int&gt; | Tag.name &lt;chr&gt; | Name &lt;chr&gt; | No..clicks &lt;int&gt; | Visible. &lt;chr&gt; | Snapshot.information &lt;chr&gt; |\n",
       "|---|---|---|---|---|---|---|\n",
       "| 1 | 74 | a     | FIND | 502 | true | Homepage Version 2 - Connect   •   http://www.lib.montana.edu/index2.php       |\n",
       "| 2 | 66 | input | s.q  | 357 | true | created 5-29-2013   •   20 days 7 hours 34 mins   •   2742 visits, 1587 clicks |\n",
       "\n"
      ],
      "text/plain": [
       "  Element.ID Tag.name Name No..clicks Visible.\n",
       "1 74         a        FIND 502        true    \n",
       "2 66         input    s.q  357        true    \n",
       "  Snapshot.information                                                          \n",
       "1 Homepage Version 2 - Connect   •   http://www.lib.montana.edu/index2.php      \n",
       "2 created 5-29-2013   •   20 days 7 hours 34 mins   •   2742 visits, 1587 clicks"
      ]
     },
     "metadata": {},
     "output_type": "display_data"
    }
   ],
   "source": [
    "head(version_2,2)"
   ]
  },
  {
   "cell_type": "code",
   "execution_count": 5,
   "metadata": {},
   "outputs": [
    {
     "data": {
      "text/html": [
       "<table class=\"dataframe\">\n",
       "<caption>A data.frame: 2 × 6</caption>\n",
       "<thead>\n",
       "\t<tr><th></th><th scope=col>Element.ID</th><th scope=col>Tag.name</th><th scope=col>Name</th><th scope=col>No..clicks</th><th scope=col>Visible.</th><th scope=col>Snapshot.information</th></tr>\n",
       "\t<tr><th></th><th scope=col>&lt;int&gt;</th><th scope=col>&lt;chr&gt;</th><th scope=col>&lt;chr&gt;</th><th scope=col>&lt;int&gt;</th><th scope=col>&lt;chr&gt;</th><th scope=col>&lt;chr&gt;</th></tr>\n",
       "</thead>\n",
       "<tbody>\n",
       "\t<tr><th scope=row>1</th><td>69</td><td>a    </td><td>FIND</td><td>587</td><td>true</td><td>Homepage Version 3 - Learn   •   http://www.lib.montana.edu/index3.php         </td></tr>\n",
       "\t<tr><th scope=row>2</th><td>61</td><td>input</td><td>s.q </td><td>325</td><td>true</td><td>created 5-29-2013   •   20 days 12 hours 21 mins   •   2747 visits, 1652 clicks</td></tr>\n",
       "</tbody>\n",
       "</table>\n"
      ],
      "text/latex": [
       "A data.frame: 2 × 6\n",
       "\\begin{tabular}{r|llllll}\n",
       "  & Element.ID & Tag.name & Name & No..clicks & Visible. & Snapshot.information\\\\\n",
       "  & <int> & <chr> & <chr> & <int> & <chr> & <chr>\\\\\n",
       "\\hline\n",
       "\t1 & 69 & a     & FIND & 587 & true & Homepage Version 3 - Learn   •   http://www.lib.montana.edu/index3.php         \\\\\n",
       "\t2 & 61 & input & s.q  & 325 & true & created 5-29-2013   •   20 days 12 hours 21 mins   •   2747 visits, 1652 clicks\\\\\n",
       "\\end{tabular}\n"
      ],
      "text/markdown": [
       "\n",
       "A data.frame: 2 × 6\n",
       "\n",
       "| <!--/--> | Element.ID &lt;int&gt; | Tag.name &lt;chr&gt; | Name &lt;chr&gt; | No..clicks &lt;int&gt; | Visible. &lt;chr&gt; | Snapshot.information &lt;chr&gt; |\n",
       "|---|---|---|---|---|---|---|\n",
       "| 1 | 69 | a     | FIND | 587 | true | Homepage Version 3 - Learn   •   http://www.lib.montana.edu/index3.php          |\n",
       "| 2 | 61 | input | s.q  | 325 | true | created 5-29-2013   •   20 days 12 hours 21 mins   •   2747 visits, 1652 clicks |\n",
       "\n"
      ],
      "text/plain": [
       "  Element.ID Tag.name Name No..clicks Visible.\n",
       "1 69         a        FIND 587        true    \n",
       "2 61         input    s.q  325        true    \n",
       "  Snapshot.information                                                           \n",
       "1 Homepage Version 3 - Learn   •   http://www.lib.montana.edu/index3.php         \n",
       "2 created 5-29-2013   •   20 days 12 hours 21 mins   •   2747 visits, 1652 clicks"
      ]
     },
     "metadata": {},
     "output_type": "display_data"
    }
   ],
   "source": [
    "head(version_3,2)"
   ]
  },
  {
   "cell_type": "code",
   "execution_count": 6,
   "metadata": {},
   "outputs": [
    {
     "data": {
      "text/html": [
       "<table class=\"dataframe\">\n",
       "<caption>A data.frame: 2 × 6</caption>\n",
       "<thead>\n",
       "\t<tr><th></th><th scope=col>Element.ID</th><th scope=col>Tag.name</th><th scope=col>Name</th><th scope=col>No..clicks</th><th scope=col>Visible.</th><th scope=col>Snapshot.information</th></tr>\n",
       "\t<tr><th></th><th scope=col>&lt;int&gt;</th><th scope=col>&lt;chr&gt;</th><th scope=col>&lt;chr&gt;</th><th scope=col>&lt;int&gt;</th><th scope=col>&lt;chr&gt;</th><th scope=col>&lt;chr&gt;</th></tr>\n",
       "</thead>\n",
       "<tbody>\n",
       "\t<tr><th scope=row>1</th><td>74</td><td>a    </td><td>FIND</td><td>631</td><td>true</td><td>Homepage Version 4 - Help   •   http://www.lib.montana.edu/index4.php         </td></tr>\n",
       "\t<tr><th scope=row>2</th><td>66</td><td>input</td><td>s.q </td><td>364</td><td>true</td><td>created 5-29-2013   •   20 days 4 hours 59 mins   •   3180 visits, 1717 clicks</td></tr>\n",
       "</tbody>\n",
       "</table>\n"
      ],
      "text/latex": [
       "A data.frame: 2 × 6\n",
       "\\begin{tabular}{r|llllll}\n",
       "  & Element.ID & Tag.name & Name & No..clicks & Visible. & Snapshot.information\\\\\n",
       "  & <int> & <chr> & <chr> & <int> & <chr> & <chr>\\\\\n",
       "\\hline\n",
       "\t1 & 74 & a     & FIND & 631 & true & Homepage Version 4 - Help   •   http://www.lib.montana.edu/index4.php         \\\\\n",
       "\t2 & 66 & input & s.q  & 364 & true & created 5-29-2013   •   20 days 4 hours 59 mins   •   3180 visits, 1717 clicks\\\\\n",
       "\\end{tabular}\n"
      ],
      "text/markdown": [
       "\n",
       "A data.frame: 2 × 6\n",
       "\n",
       "| <!--/--> | Element.ID &lt;int&gt; | Tag.name &lt;chr&gt; | Name &lt;chr&gt; | No..clicks &lt;int&gt; | Visible. &lt;chr&gt; | Snapshot.information &lt;chr&gt; |\n",
       "|---|---|---|---|---|---|---|\n",
       "| 1 | 74 | a     | FIND | 631 | true | Homepage Version 4 - Help   •   http://www.lib.montana.edu/index4.php          |\n",
       "| 2 | 66 | input | s.q  | 364 | true | created 5-29-2013   •   20 days 4 hours 59 mins   •   3180 visits, 1717 clicks |\n",
       "\n"
      ],
      "text/plain": [
       "  Element.ID Tag.name Name No..clicks Visible.\n",
       "1 74         a        FIND 631        true    \n",
       "2 66         input    s.q  364        true    \n",
       "  Snapshot.information                                                          \n",
       "1 Homepage Version 4 - Help   •   http://www.lib.montana.edu/index4.php         \n",
       "2 created 5-29-2013   •   20 days 4 hours 59 mins   •   3180 visits, 1717 clicks"
      ]
     },
     "metadata": {},
     "output_type": "display_data"
    }
   ],
   "source": [
    "head(version_4,2)"
   ]
  },
  {
   "cell_type": "code",
   "execution_count": 7,
   "metadata": {},
   "outputs": [
    {
     "data": {
      "text/html": [
       "<table class=\"dataframe\">\n",
       "<caption>A data.frame: 2 × 6</caption>\n",
       "<thead>\n",
       "\t<tr><th></th><th scope=col>Element.ID</th><th scope=col>Tag.name</th><th scope=col>Name</th><th scope=col>No..clicks</th><th scope=col>Visible.</th><th scope=col>Snapshot.information</th></tr>\n",
       "\t<tr><th></th><th scope=col>&lt;int&gt;</th><th scope=col>&lt;chr&gt;</th><th scope=col>&lt;chr&gt;</th><th scope=col>&lt;int&gt;</th><th scope=col>&lt;chr&gt;</th><th scope=col>&lt;chr&gt;</th></tr>\n",
       "</thead>\n",
       "<tbody>\n",
       "\t<tr><th scope=row>1</th><td>69</td><td>a    </td><td>FIND</td><td>397</td><td>true</td><td>Homepage Version 5 - Services   •   http://www.lib.montana.edu/index5.php     </td></tr>\n",
       "\t<tr><th scope=row>2</th><td>61</td><td>input</td><td>s.q </td><td>323</td><td>true</td><td>created 5-29-2013   •   20 days 4 hours 59 mins   •   2064 visits, 1348 clicks</td></tr>\n",
       "</tbody>\n",
       "</table>\n"
      ],
      "text/latex": [
       "A data.frame: 2 × 6\n",
       "\\begin{tabular}{r|llllll}\n",
       "  & Element.ID & Tag.name & Name & No..clicks & Visible. & Snapshot.information\\\\\n",
       "  & <int> & <chr> & <chr> & <int> & <chr> & <chr>\\\\\n",
       "\\hline\n",
       "\t1 & 69 & a     & FIND & 397 & true & Homepage Version 5 - Services   •   http://www.lib.montana.edu/index5.php     \\\\\n",
       "\t2 & 61 & input & s.q  & 323 & true & created 5-29-2013   •   20 days 4 hours 59 mins   •   2064 visits, 1348 clicks\\\\\n",
       "\\end{tabular}\n"
      ],
      "text/markdown": [
       "\n",
       "A data.frame: 2 × 6\n",
       "\n",
       "| <!--/--> | Element.ID &lt;int&gt; | Tag.name &lt;chr&gt; | Name &lt;chr&gt; | No..clicks &lt;int&gt; | Visible. &lt;chr&gt; | Snapshot.information &lt;chr&gt; |\n",
       "|---|---|---|---|---|---|---|\n",
       "| 1 | 69 | a     | FIND | 397 | true | Homepage Version 5 - Services   •   http://www.lib.montana.edu/index5.php      |\n",
       "| 2 | 61 | input | s.q  | 323 | true | created 5-29-2013   •   20 days 4 hours 59 mins   •   2064 visits, 1348 clicks |\n",
       "\n"
      ],
      "text/plain": [
       "  Element.ID Tag.name Name No..clicks Visible.\n",
       "1 69         a        FIND 397        true    \n",
       "2 61         input    s.q  323        true    \n",
       "  Snapshot.information                                                          \n",
       "1 Homepage Version 5 - Services   •   http://www.lib.montana.edu/index5.php     \n",
       "2 created 5-29-2013   •   20 days 4 hours 59 mins   •   2064 visits, 1348 clicks"
      ]
     },
     "metadata": {},
     "output_type": "display_data"
    }
   ],
   "source": [
    "head(version_5,2)"
   ]
  },
  {
   "cell_type": "markdown",
   "metadata": {},
   "source": [
    "#### Using str perform quick descriptive analysis"
   ]
  },
  {
   "cell_type": "code",
   "execution_count": 8,
   "metadata": {
    "scrolled": true
   },
   "outputs": [
    {
     "name": "stdout",
     "output_type": "stream",
     "text": [
      "'data.frame':\t69 obs. of  6 variables:\n",
      " $ Element.ID          : int  128 69 61 67 78 98 62 118 50 87 ...\n",
      " $ Tag.name            : chr  \"area\" \"a\" \"input\" \"a\" ...\n",
      " $ Name                : chr  \"Montana State University - Home\" \"FIND\" \"s.q\" \"lib.montana.edu/find/\" ...\n",
      " $ No..clicks          : int  1291 842 508 166 151 102 101 55 46 42 ...\n",
      " $ Visible.            : chr  \"false\" \"true\" \"true\" \"true\" ...\n",
      " $ Snapshot.information: chr  \"Homepage Version 1 - Interact   •   http://www.lib.montana.edu/index.php\" \"created 5-29-2013   •   20 days 4 hours 21 mins   •   10283 visits, 3714 clicks\" \"\" \"\" ...\n",
      "NULL\n",
      "'data.frame':\t58 obs. of  6 variables:\n",
      " $ Element.ID          : int  74 66 72 133 103 83 92 67 81 101 ...\n",
      " $ Tag.name            : chr  \"a\" \"input\" \"a\" \"area\" ...\n",
      " $ Name                : chr  \"FIND\" \"s.q\" \"lib.montana.edu/find/\" \"Montana State University Libraries - Home\" ...\n",
      " $ No..clicks          : int  502 357 171 83 74 57 53 47 31 31 ...\n",
      " $ Visible.            : chr  \"true\" \"true\" \"true\" \"false\" ...\n",
      " $ Snapshot.information: chr  \"Homepage Version 2 - Connect   •   http://www.lib.montana.edu/index2.php\" \"created 5-29-2013   •   20 days 7 hours 34 mins   •   2742 visits, 1587 clicks\" \"\" \"\" ...\n",
      "NULL\n",
      "'data.frame':\t62 obs. of  6 variables:\n",
      " $ Element.ID          : int  69 61 67 128 98 78 62 96 30 64 ...\n",
      " $ Tag.name            : chr  \"a\" \"input\" \"a\" \"area\" ...\n",
      " $ Name                : chr  \"FIND\" \"s.q\" \"lib.montana.edu/find/\" \"Montana State University - Home\" ...\n",
      " $ No..clicks          : int  587 325 142 83 76 63 50 45 35 26 ...\n",
      " $ Visible.            : chr  \"true\" \"true\" \"true\" \"false\" ...\n",
      " $ Snapshot.information: chr  \"Homepage Version 3 - Learn   •   http://www.lib.montana.edu/index3.php\" \"created 5-29-2013   •   20 days 12 hours 21 mins   •   2747 visits, 1652 clicks\" \"\" \"\" ...\n",
      "NULL\n",
      "'data.frame':\t57 obs. of  6 variables:\n",
      " $ Element.ID          : int  74 66 72 133 83 103 67 92 101 127 ...\n",
      " $ Tag.name            : chr  \"a\" \"input\" \"a\" \"area\" ...\n",
      " $ Name                : chr  \"FIND\" \"s.q\" \"lib.montana.edu/find/\" \"Montana State University - Home\" ...\n",
      " $ No..clicks          : int  631 364 139 122 72 68 59 38 26 17 ...\n",
      " $ Visible.            : chr  \"true\" \"true\" \"true\" \"false\" ...\n",
      " $ Snapshot.information: chr  \"Homepage Version 4 - Help   •   http://www.lib.montana.edu/index4.php\" \"created 5-29-2013   •   20 days 4 hours 59 mins   •   3180 visits, 1717 clicks\" \"\" \"\" ...\n",
      "NULL\n",
      "'data.frame':\t53 obs. of  6 variables:\n",
      " $ Element.ID          : int  69 61 67 62 98 78 129 87 96 76 ...\n",
      " $ Tag.name            : chr  \"a\" \"input\" \"a\" \"button\" ...\n",
      " $ Name                : chr  \"FIND\" \"s.q\" \"lib.montana.edu/find/\" \"Search\" ...\n",
      " $ No..clicks          : int  397 323 106 85 81 57 49 45 24 22 ...\n",
      " $ Visible.            : chr  \"true\" \"true\" \"true\" \"true\" ...\n",
      " $ Snapshot.information: chr  \"Homepage Version 5 - Services   •   http://www.lib.montana.edu/index5.php\" \"created 5-29-2013   •   20 days 4 hours 59 mins   •   2064 visits, 1348 clicks\" \"\" \"\" ...\n",
      "NULL\n"
     ]
    }
   ],
   "source": [
    "print(str(version_1))\n",
    "print(str(version_2))\n",
    "print(str(version_3))\n",
    "print(str(version_4))\n",
    "print(str(version_5))"
   ]
  },
  {
   "cell_type": "code",
   "execution_count": 15,
   "metadata": {
    "scrolled": true
   },
   "outputs": [
    {
     "data": {
      "text/html": [
       "<style>\n",
       ".list-inline {list-style: none; margin:0; padding: 0}\n",
       ".list-inline>li {display: inline-block}\n",
       ".list-inline>li:not(:last-child)::after {content: \"\\00b7\"; padding: 0 .5ex}\n",
       "</style>\n",
       "<ol class=list-inline><li>'Element.ID'</li><li>'Tag.name'</li><li>'Name'</li><li>'No..clicks'</li><li>'Visible.'</li><li>'Snapshot.information'</li></ol>\n"
      ],
      "text/latex": [
       "\\begin{enumerate*}\n",
       "\\item 'Element.ID'\n",
       "\\item 'Tag.name'\n",
       "\\item 'Name'\n",
       "\\item 'No..clicks'\n",
       "\\item 'Visible.'\n",
       "\\item 'Snapshot.information'\n",
       "\\end{enumerate*}\n"
      ],
      "text/markdown": [
       "1. 'Element.ID'\n",
       "2. 'Tag.name'\n",
       "3. 'Name'\n",
       "4. 'No..clicks'\n",
       "5. 'Visible.'\n",
       "6. 'Snapshot.information'\n",
       "\n",
       "\n"
      ],
      "text/plain": [
       "[1] \"Element.ID\"           \"Tag.name\"             \"Name\"                \n",
       "[4] \"No..clicks\"           \"Visible.\"             \"Snapshot.information\""
      ]
     },
     "metadata": {},
     "output_type": "display_data"
    }
   ],
   "source": [
    "colnames(version_1)"
   ]
  },
  {
   "cell_type": "markdown",
   "metadata": {},
   "source": [
    "## Data Analysis\n",
    "version_1- 69 rows and 6 columns\n",
    "version_2 58 rows and 6 columns\n",
    "version_3 62 rows and 6 columns\n",
    "version_4 57 rows and 6 columns\n",
    "version_5 53 rows and 6 columns\n",
    "\n",
    "All dataset contain same column name: `'Element.ID''Tag.name''Name''No..clicks''Visible.''Snapshot.information'`\n",
    "#### Data cleaning\n",
    "- extra columns \n",
    "- column name non-coherent\n",
    "- missing data in all data sets"
   ]
  },
  {
   "cell_type": "code",
   "execution_count": 10,
   "metadata": {
    "scrolled": true
   },
   "outputs": [
    {
     "name": "stdout",
     "output_type": "stream",
     "text": [
      "'data.frame':\t69 obs. of  30 variables:\n",
      " $ one_Element.ID            : chr  \"128\" \" 69\" \" 61\" \" 67\" ...\n",
      " $ one_Tag.name              : chr  \"area\" \"a\" \"input\" \"a\" ...\n",
      " $ one_Name                  : chr  \"Montana State University - Home\" \"FIND\" \"s.q\" \"lib.montana.edu/find/\" ...\n",
      " $ one_No..clicks            : chr  \"1291\" \" 842\" \" 508\" \" 166\" ...\n",
      " $ one_Visible.              : chr  \"false\" \"true\" \"true\" \"true\" ...\n",
      " $ one_Snapshot.information  : chr  \"Homepage Version 1 - Interact   •   http://www.lib.montana.edu/index.php\" \"created 5-29-2013   •   20 days 4 hours 21 mins   •   10283 visits, 3714 clicks\" \"\" \"\" ...\n",
      " $ two_Element.ID            : chr  \" 74\" \" 66\" \" 72\" \"133\" ...\n",
      " $ two_Tag.name              : chr  \"a\" \"input\" \"a\" \"area\" ...\n",
      " $ two_Name                  : chr  \"FIND\" \"s.q\" \"lib.montana.edu/find/\" \"Montana State University Libraries - Home\" ...\n",
      " $ two_No..clicks            : chr  \"502\" \"357\" \"171\" \" 83\" ...\n",
      " $ two_Visible.              : chr  \"true\" \"true\" \"true\" \"false\" ...\n",
      " $ two_Snapshot.information  : chr  \"Homepage Version 2 - Connect   •   http://www.lib.montana.edu/index2.php\" \"created 5-29-2013   •   20 days 7 hours 34 mins   •   2742 visits, 1587 clicks\" \"\" \"\" ...\n",
      " $ three_Element.ID          : chr  \" 69\" \" 61\" \" 67\" \"128\" ...\n",
      " $ three_Tag.name            : chr  \"a\" \"input\" \"a\" \"area\" ...\n",
      " $ three_Name                : chr  \"FIND\" \"s.q\" \"lib.montana.edu/find/\" \"Montana State University - Home\" ...\n",
      " $ three_No..clicks          : chr  \"587\" \"325\" \"142\" \" 83\" ...\n",
      " $ three_Visible.            : chr  \"true\" \"true\" \"true\" \"false\" ...\n",
      " $ three_Snapshot.information: chr  \"Homepage Version 3 - Learn   •   http://www.lib.montana.edu/index3.php\" \"created 5-29-2013   •   20 days 12 hours 21 mins   •   2747 visits, 1652 clicks\" \"\" \"\" ...\n",
      " $ four_Element.ID           : chr  \" 74\" \" 66\" \" 72\" \"133\" ...\n",
      " $ four_Tag.name             : chr  \"a\" \"input\" \"a\" \"area\" ...\n",
      " $ four_Name                 : chr  \"FIND\" \"s.q\" \"lib.montana.edu/find/\" \"Montana State University - Home\" ...\n",
      " $ four_No..clicks           : chr  \"631\" \"364\" \"139\" \"122\" ...\n",
      " $ four_Visible.             : chr  \"true\" \"true\" \"true\" \"false\" ...\n",
      " $ four_Snapshot.information : chr  \"Homepage Version 4 - Help   •   http://www.lib.montana.edu/index4.php\" \"created 5-29-2013   •   20 days 4 hours 59 mins   •   3180 visits, 1717 clicks\" \"\" \"\" ...\n",
      " $ five_Element.ID           : chr  \" 69\" \" 61\" \" 67\" \" 62\" ...\n",
      " $ five_Tag.name             : chr  \"a\" \"input\" \"a\" \"button\" ...\n",
      " $ five_Name                 : chr  \"FIND\" \"s.q\" \"lib.montana.edu/find/\" \"Search\" ...\n",
      " $ five_No..clicks           : chr  \"397\" \"323\" \"106\" \" 85\" ...\n",
      " $ five_Visible.             : chr  \"true\" \"true\" \"true\" \"true\" ...\n",
      " $ five_Snapshot.information : chr  \"Homepage Version 5 - Services   •   http://www.lib.montana.edu/index5.php\" \"created 5-29-2013   •   20 days 4 hours 59 mins   •   2064 visits, 1348 clicks\" \"\" \"\" ...\n"
     ]
    }
   ],
   "source": [
    "# function to perform full outer join on version_1\n",
    "multimerge <- function (mylist) {\n",
    "  ## mimics a recursive merge or full outer join\n",
    " \n",
    "    # unlist and put all unique elements inside a variable\n",
    "  unames <- unique(unlist(lapply(mylist, rownames)))\n",
    " \n",
    "    # store size of unlist names in a variables\n",
    "  n <- length(unames)\n",
    " \n",
    "    # recursive function\n",
    "  out <- lapply(mylist, function(df) {\n",
    " \n",
    "    tmp <- matrix(nr = n, nc = ncol(df), dimnames = list(unames,colnames(df)))\n",
    "    tmp[rownames(df), ] <- as.matrix(df)\n",
    "    rm(df); gc()\n",
    " \n",
    "    return(tmp)\n",
    "  })\n",
    " \n",
    "  stopifnot( all( sapply(out, function(x) identical(rownames(x), unames)) ) )\n",
    " \n",
    "  bigout <- do.call(cbind, out)\n",
    "  colnames(bigout) <- paste(rep(names(mylist), sapply(mylist, ncol)), unlist(sapply(mylist, colnames)), sep = \"_\")\n",
    "  return(bigout)\n",
    "}\n",
    "\n",
    "# store all merged datasets into a variable\n",
    "df <- multimerge( list (one=version_1, two=version_2, three=version_3, four=version_4, five=version_5))\n",
    "# fill all n/a variable with 0\n",
    "df[is.na(df)] <- 0\n",
    "# Change the dataset back to dataframe structure\n",
    "df <- data.frame(df)\n",
    "str(df)"
   ]
  },
  {
   "cell_type": "code",
   "execution_count": 11,
   "metadata": {},
   "outputs": [
    {
     "data": {
      "text/html": [
       "<style>\n",
       ".list-inline {list-style: none; margin:0; padding: 0}\n",
       ".list-inline>li {display: inline-block}\n",
       ".list-inline>li:not(:last-child)::after {content: \"\\00b7\"; padding: 0 .5ex}\n",
       "</style>\n",
       "<ol class=list-inline><li>'one_Element.ID'</li><li>'one_Tag.name'</li><li>'one_Name'</li><li>'one_No..clicks'</li><li>'one_Visible.'</li><li>'one_Snapshot.information'</li><li>'two_Element.ID'</li><li>'two_Tag.name'</li><li>'two_Name'</li><li>'two_No..clicks'</li><li>'two_Visible.'</li><li>'two_Snapshot.information'</li><li>'three_Element.ID'</li><li>'three_Tag.name'</li><li>'three_Name'</li><li>'three_No..clicks'</li><li>'three_Visible.'</li><li>'three_Snapshot.information'</li><li>'four_Element.ID'</li><li>'four_Tag.name'</li><li>'four_Name'</li><li>'four_No..clicks'</li><li>'four_Visible.'</li><li>'four_Snapshot.information'</li><li>'five_Element.ID'</li><li>'five_Tag.name'</li><li>'five_Name'</li><li>'five_No..clicks'</li><li>'five_Visible.'</li><li>'five_Snapshot.information'</li></ol>\n"
      ],
      "text/latex": [
       "\\begin{enumerate*}\n",
       "\\item 'one\\_Element.ID'\n",
       "\\item 'one\\_Tag.name'\n",
       "\\item 'one\\_Name'\n",
       "\\item 'one\\_No..clicks'\n",
       "\\item 'one\\_Visible.'\n",
       "\\item 'one\\_Snapshot.information'\n",
       "\\item 'two\\_Element.ID'\n",
       "\\item 'two\\_Tag.name'\n",
       "\\item 'two\\_Name'\n",
       "\\item 'two\\_No..clicks'\n",
       "\\item 'two\\_Visible.'\n",
       "\\item 'two\\_Snapshot.information'\n",
       "\\item 'three\\_Element.ID'\n",
       "\\item 'three\\_Tag.name'\n",
       "\\item 'three\\_Name'\n",
       "\\item 'three\\_No..clicks'\n",
       "\\item 'three\\_Visible.'\n",
       "\\item 'three\\_Snapshot.information'\n",
       "\\item 'four\\_Element.ID'\n",
       "\\item 'four\\_Tag.name'\n",
       "\\item 'four\\_Name'\n",
       "\\item 'four\\_No..clicks'\n",
       "\\item 'four\\_Visible.'\n",
       "\\item 'four\\_Snapshot.information'\n",
       "\\item 'five\\_Element.ID'\n",
       "\\item 'five\\_Tag.name'\n",
       "\\item 'five\\_Name'\n",
       "\\item 'five\\_No..clicks'\n",
       "\\item 'five\\_Visible.'\n",
       "\\item 'five\\_Snapshot.information'\n",
       "\\end{enumerate*}\n"
      ],
      "text/markdown": [
       "1. 'one_Element.ID'\n",
       "2. 'one_Tag.name'\n",
       "3. 'one_Name'\n",
       "4. 'one_No..clicks'\n",
       "5. 'one_Visible.'\n",
       "6. 'one_Snapshot.information'\n",
       "7. 'two_Element.ID'\n",
       "8. 'two_Tag.name'\n",
       "9. 'two_Name'\n",
       "10. 'two_No..clicks'\n",
       "11. 'two_Visible.'\n",
       "12. 'two_Snapshot.information'\n",
       "13. 'three_Element.ID'\n",
       "14. 'three_Tag.name'\n",
       "15. 'three_Name'\n",
       "16. 'three_No..clicks'\n",
       "17. 'three_Visible.'\n",
       "18. 'three_Snapshot.information'\n",
       "19. 'four_Element.ID'\n",
       "20. 'four_Tag.name'\n",
       "21. 'four_Name'\n",
       "22. 'four_No..clicks'\n",
       "23. 'four_Visible.'\n",
       "24. 'four_Snapshot.information'\n",
       "25. 'five_Element.ID'\n",
       "26. 'five_Tag.name'\n",
       "27. 'five_Name'\n",
       "28. 'five_No..clicks'\n",
       "29. 'five_Visible.'\n",
       "30. 'five_Snapshot.information'\n",
       "\n",
       "\n"
      ],
      "text/plain": [
       " [1] \"one_Element.ID\"             \"one_Tag.name\"              \n",
       " [3] \"one_Name\"                   \"one_No..clicks\"            \n",
       " [5] \"one_Visible.\"               \"one_Snapshot.information\"  \n",
       " [7] \"two_Element.ID\"             \"two_Tag.name\"              \n",
       " [9] \"two_Name\"                   \"two_No..clicks\"            \n",
       "[11] \"two_Visible.\"               \"two_Snapshot.information\"  \n",
       "[13] \"three_Element.ID\"           \"three_Tag.name\"            \n",
       "[15] \"three_Name\"                 \"three_No..clicks\"          \n",
       "[17] \"three_Visible.\"             \"three_Snapshot.information\"\n",
       "[19] \"four_Element.ID\"            \"four_Tag.name\"             \n",
       "[21] \"four_Name\"                  \"four_No..clicks\"           \n",
       "[23] \"four_Visible.\"              \"four_Snapshot.information\" \n",
       "[25] \"five_Element.ID\"            \"five_Tag.name\"             \n",
       "[27] \"five_Name\"                  \"five_No..clicks\"           \n",
       "[29] \"five_Visible.\"              \"five_Snapshot.information\" "
      ]
     },
     "metadata": {},
     "output_type": "display_data"
    }
   ],
   "source": [
    "# Checking columns names\n",
    "colnames(df)"
   ]
  },
  {
   "cell_type": "code",
   "execution_count": 12,
   "metadata": {},
   "outputs": [
    {
     "data": {
      "text/html": [
       "<style>\n",
       ".list-inline {list-style: none; margin:0; padding: 0}\n",
       ".list-inline>li {display: inline-block}\n",
       ".list-inline>li:not(:last-child)::after {content: \"\\00b7\"; padding: 0 .5ex}\n",
       "</style>\n",
       "<ol class=list-inline><li>'one_Element.ID'</li><li>'one_Tag.name'</li><li>'one_Name'</li><li>'no_clicks_version_1'</li><li>'one_Visible.'</li><li>'one_Snapshot.information'</li><li>'two_Element.ID'</li><li>'two_Tag.name'</li><li>'two_Name'</li><li>'no_clicks_version_2'</li><li>'two_Visible.'</li><li>'two_Snapshot.information'</li><li>'three_Element.ID'</li><li>'three_Tag.name'</li><li>'three_Name'</li><li>'no_clicks_version_3'</li><li>'three_Visible.'</li><li>'three_Snapshot.information'</li><li>'four_Element.ID'</li><li>'four_Tag.name'</li><li>'four_Name'</li><li>'no_clicks_version_4'</li><li>'four_Visible.'</li><li>'four_Snapshot.information'</li><li>'five_Element.ID'</li><li>'five_Tag.name'</li><li>'five_Name'</li><li>'no_clicks_version_5'</li><li>'five_Visible.'</li><li>'five_Snapshot.information'</li></ol>\n"
      ],
      "text/latex": [
       "\\begin{enumerate*}\n",
       "\\item 'one\\_Element.ID'\n",
       "\\item 'one\\_Tag.name'\n",
       "\\item 'one\\_Name'\n",
       "\\item 'no\\_clicks\\_version\\_1'\n",
       "\\item 'one\\_Visible.'\n",
       "\\item 'one\\_Snapshot.information'\n",
       "\\item 'two\\_Element.ID'\n",
       "\\item 'two\\_Tag.name'\n",
       "\\item 'two\\_Name'\n",
       "\\item 'no\\_clicks\\_version\\_2'\n",
       "\\item 'two\\_Visible.'\n",
       "\\item 'two\\_Snapshot.information'\n",
       "\\item 'three\\_Element.ID'\n",
       "\\item 'three\\_Tag.name'\n",
       "\\item 'three\\_Name'\n",
       "\\item 'no\\_clicks\\_version\\_3'\n",
       "\\item 'three\\_Visible.'\n",
       "\\item 'three\\_Snapshot.information'\n",
       "\\item 'four\\_Element.ID'\n",
       "\\item 'four\\_Tag.name'\n",
       "\\item 'four\\_Name'\n",
       "\\item 'no\\_clicks\\_version\\_4'\n",
       "\\item 'four\\_Visible.'\n",
       "\\item 'four\\_Snapshot.information'\n",
       "\\item 'five\\_Element.ID'\n",
       "\\item 'five\\_Tag.name'\n",
       "\\item 'five\\_Name'\n",
       "\\item 'no\\_clicks\\_version\\_5'\n",
       "\\item 'five\\_Visible.'\n",
       "\\item 'five\\_Snapshot.information'\n",
       "\\end{enumerate*}\n"
      ],
      "text/markdown": [
       "1. 'one_Element.ID'\n",
       "2. 'one_Tag.name'\n",
       "3. 'one_Name'\n",
       "4. 'no_clicks_version_1'\n",
       "5. 'one_Visible.'\n",
       "6. 'one_Snapshot.information'\n",
       "7. 'two_Element.ID'\n",
       "8. 'two_Tag.name'\n",
       "9. 'two_Name'\n",
       "10. 'no_clicks_version_2'\n",
       "11. 'two_Visible.'\n",
       "12. 'two_Snapshot.information'\n",
       "13. 'three_Element.ID'\n",
       "14. 'three_Tag.name'\n",
       "15. 'three_Name'\n",
       "16. 'no_clicks_version_3'\n",
       "17. 'three_Visible.'\n",
       "18. 'three_Snapshot.information'\n",
       "19. 'four_Element.ID'\n",
       "20. 'four_Tag.name'\n",
       "21. 'four_Name'\n",
       "22. 'no_clicks_version_4'\n",
       "23. 'four_Visible.'\n",
       "24. 'four_Snapshot.information'\n",
       "25. 'five_Element.ID'\n",
       "26. 'five_Tag.name'\n",
       "27. 'five_Name'\n",
       "28. 'no_clicks_version_5'\n",
       "29. 'five_Visible.'\n",
       "30. 'five_Snapshot.information'\n",
       "\n",
       "\n"
      ],
      "text/plain": [
       " [1] \"one_Element.ID\"             \"one_Tag.name\"              \n",
       " [3] \"one_Name\"                   \"no_clicks_version_1\"       \n",
       " [5] \"one_Visible.\"               \"one_Snapshot.information\"  \n",
       " [7] \"two_Element.ID\"             \"two_Tag.name\"              \n",
       " [9] \"two_Name\"                   \"no_clicks_version_2\"       \n",
       "[11] \"two_Visible.\"               \"two_Snapshot.information\"  \n",
       "[13] \"three_Element.ID\"           \"three_Tag.name\"            \n",
       "[15] \"three_Name\"                 \"no_clicks_version_3\"       \n",
       "[17] \"three_Visible.\"             \"three_Snapshot.information\"\n",
       "[19] \"four_Element.ID\"            \"four_Tag.name\"             \n",
       "[21] \"four_Name\"                  \"no_clicks_version_4\"       \n",
       "[23] \"four_Visible.\"              \"four_Snapshot.information\" \n",
       "[25] \"five_Element.ID\"            \"five_Tag.name\"             \n",
       "[27] \"five_Name\"                  \"no_clicks_version_5\"       \n",
       "[29] \"five_Visible.\"              \"five_Snapshot.information\" "
      ]
     },
     "metadata": {},
     "output_type": "display_data"
    }
   ],
   "source": [
    "# changed column names\n",
    "df <- df %>% \n",
    "{colnames(.)[4] = \"no_clicks_version_1\";.} %>% \n",
    "{colnames(.)[10] = \"no_clicks_version_2\";.} %>%\n",
    "{colnames(.)[16] = \"no_clicks_version_3\";.} %>%\n",
    "{colnames(.)[22] = \"no_clicks_version_4\";.} %>%\n",
    "{colnames(.)[28] = \"no_clicks_version_5\";.} \n",
    "colnames(df)"
   ]
  },
  {
   "cell_type": "code",
   "execution_count": 13,
   "metadata": {},
   "outputs": [
    {
     "data": {
      "text/html": [
       "<table class=\"dataframe\">\n",
       "<caption>A data.frame: 10 × 10</caption>\n",
       "<thead>\n",
       "\t<tr><th></th><th scope=col>one_Name</th><th scope=col>no_clicks_version_1</th><th scope=col>two_Name</th><th scope=col>no_clicks_version_2</th><th scope=col>three_Name</th><th scope=col>no_clicks_version_3</th><th scope=col>four_Name</th><th scope=col>no_clicks_version_4</th><th scope=col>five_Name</th><th scope=col>no_clicks_version_5</th></tr>\n",
       "\t<tr><th></th><th scope=col>&lt;chr&gt;</th><th scope=col>&lt;chr&gt;</th><th scope=col>&lt;chr&gt;</th><th scope=col>&lt;chr&gt;</th><th scope=col>&lt;chr&gt;</th><th scope=col>&lt;chr&gt;</th><th scope=col>&lt;chr&gt;</th><th scope=col>&lt;chr&gt;</th><th scope=col>&lt;chr&gt;</th><th scope=col>&lt;chr&gt;</th></tr>\n",
       "</thead>\n",
       "<tbody>\n",
       "\t<tr><th scope=row>1</th><td>Montana State University - Home</td><td>1291</td><td>FIND                                     </td><td>502</td><td>FIND                           </td><td>587</td><td>FIND                           </td><td>631</td><td>FIND                           </td><td>397</td></tr>\n",
       "\t<tr><th scope=row>2</th><td>FIND                           </td><td> 842</td><td>s.q                                      </td><td>357</td><td>s.q                            </td><td>325</td><td>s.q                            </td><td>364</td><td>s.q                            </td><td>323</td></tr>\n",
       "\t<tr><th scope=row>3</th><td>s.q                            </td><td> 508</td><td>lib.montana.edu/find/                    </td><td>171</td><td>lib.montana.edu/find/          </td><td>142</td><td>lib.montana.edu/find/          </td><td>139</td><td>lib.montana.edu/find/          </td><td>106</td></tr>\n",
       "\t<tr><th scope=row>4</th><td>lib.montana.edu/find/          </td><td> 166</td><td>Montana State University Libraries - Home</td><td> 83</td><td>Montana State University - Home</td><td> 83</td><td>Montana State University - Home</td><td>122</td><td>Search                         </td><td> 85</td></tr>\n",
       "\t<tr><th scope=row>5</th><td>REQUEST                        </td><td> 151</td><td>Hours                                    </td><td> 74</td><td>Hours                          </td><td> 76</td><td>REQUEST                        </td><td> 72</td><td>Hours                          </td><td> 81</td></tr>\n",
       "\t<tr><th scope=row>6</th><td>Hours                          </td><td> 102</td><td>REQUEST                                  </td><td> 57</td><td>REQUEST                        </td><td> 63</td><td>Hours                          </td><td> 68</td><td>REQUEST                        </td><td> 57</td></tr>\n",
       "\t<tr><th scope=row>7</th><td>Search                         </td><td> 101</td><td>CONNECT                                  </td><td> 53</td><td>Search                         </td><td> 50</td><td>Search                         </td><td> 59</td><td>Montana State University - Home</td><td> 49</td></tr>\n",
       "\t<tr><th scope=row>8</th><td>MSU                            </td><td>  55</td><td>Search                                   </td><td> 47</td><td>News                           </td><td> 45</td><td>HELP                           </td><td> 38</td><td>SERVICES                       </td><td> 45</td></tr>\n",
       "\t<tr><th scope=row>9</th><td>nav-item-dot                   </td><td>  46</td><td>lib.montana.edu/request/                 </td><td> 31</td><td>slideshow-right                </td><td> 35</td><td>News                           </td><td> 26</td><td>News                           </td><td> 24</td></tr>\n",
       "\t<tr><th scope=row>10</th><td>INTERACT                       </td><td>  42</td><td>News                                     </td><td> 31</td><td>Advanced Search                </td><td> 26</td><td>Contact Us                     </td><td> 17</td><td>lib.montana.edu/request/       </td><td> 22</td></tr>\n",
       "</tbody>\n",
       "</table>\n"
      ],
      "text/latex": [
       "A data.frame: 10 × 10\n",
       "\\begin{tabular}{r|llllllllll}\n",
       "  & one\\_Name & no\\_clicks\\_version\\_1 & two\\_Name & no\\_clicks\\_version\\_2 & three\\_Name & no\\_clicks\\_version\\_3 & four\\_Name & no\\_clicks\\_version\\_4 & five\\_Name & no\\_clicks\\_version\\_5\\\\\n",
       "  & <chr> & <chr> & <chr> & <chr> & <chr> & <chr> & <chr> & <chr> & <chr> & <chr>\\\\\n",
       "\\hline\n",
       "\t1 & Montana State University - Home & 1291 & FIND                                      & 502 & FIND                            & 587 & FIND                            & 631 & FIND                            & 397\\\\\n",
       "\t2 & FIND                            &  842 & s.q                                       & 357 & s.q                             & 325 & s.q                             & 364 & s.q                             & 323\\\\\n",
       "\t3 & s.q                             &  508 & lib.montana.edu/find/                     & 171 & lib.montana.edu/find/           & 142 & lib.montana.edu/find/           & 139 & lib.montana.edu/find/           & 106\\\\\n",
       "\t4 & lib.montana.edu/find/           &  166 & Montana State University Libraries - Home &  83 & Montana State University - Home &  83 & Montana State University - Home & 122 & Search                          &  85\\\\\n",
       "\t5 & REQUEST                         &  151 & Hours                                     &  74 & Hours                           &  76 & REQUEST                         &  72 & Hours                           &  81\\\\\n",
       "\t6 & Hours                           &  102 & REQUEST                                   &  57 & REQUEST                         &  63 & Hours                           &  68 & REQUEST                         &  57\\\\\n",
       "\t7 & Search                          &  101 & CONNECT                                   &  53 & Search                          &  50 & Search                          &  59 & Montana State University - Home &  49\\\\\n",
       "\t8 & MSU                             &   55 & Search                                    &  47 & News                            &  45 & HELP                            &  38 & SERVICES                        &  45\\\\\n",
       "\t9 & nav-item-dot                    &   46 & lib.montana.edu/request/                  &  31 & slideshow-right                 &  35 & News                            &  26 & News                            &  24\\\\\n",
       "\t10 & INTERACT                        &   42 & News                                      &  31 & Advanced Search                 &  26 & Contact Us                      &  17 & lib.montana.edu/request/        &  22\\\\\n",
       "\\end{tabular}\n"
      ],
      "text/markdown": [
       "\n",
       "A data.frame: 10 × 10\n",
       "\n",
       "| <!--/--> | one_Name &lt;chr&gt; | no_clicks_version_1 &lt;chr&gt; | two_Name &lt;chr&gt; | no_clicks_version_2 &lt;chr&gt; | three_Name &lt;chr&gt; | no_clicks_version_3 &lt;chr&gt; | four_Name &lt;chr&gt; | no_clicks_version_4 &lt;chr&gt; | five_Name &lt;chr&gt; | no_clicks_version_5 &lt;chr&gt; |\n",
       "|---|---|---|---|---|---|---|---|---|---|---|\n",
       "| 1 | Montana State University - Home | 1291 | FIND                                      | 502 | FIND                            | 587 | FIND                            | 631 | FIND                            | 397 |\n",
       "| 2 | FIND                            |  842 | s.q                                       | 357 | s.q                             | 325 | s.q                             | 364 | s.q                             | 323 |\n",
       "| 3 | s.q                             |  508 | lib.montana.edu/find/                     | 171 | lib.montana.edu/find/           | 142 | lib.montana.edu/find/           | 139 | lib.montana.edu/find/           | 106 |\n",
       "| 4 | lib.montana.edu/find/           |  166 | Montana State University Libraries - Home |  83 | Montana State University - Home |  83 | Montana State University - Home | 122 | Search                          |  85 |\n",
       "| 5 | REQUEST                         |  151 | Hours                                     |  74 | Hours                           |  76 | REQUEST                         |  72 | Hours                           |  81 |\n",
       "| 6 | Hours                           |  102 | REQUEST                                   |  57 | REQUEST                         |  63 | Hours                           |  68 | REQUEST                         |  57 |\n",
       "| 7 | Search                          |  101 | CONNECT                                   |  53 | Search                          |  50 | Search                          |  59 | Montana State University - Home |  49 |\n",
       "| 8 | MSU                             |   55 | Search                                    |  47 | News                            |  45 | HELP                            |  38 | SERVICES                        |  45 |\n",
       "| 9 | nav-item-dot                    |   46 | lib.montana.edu/request/                  |  31 | slideshow-right                 |  35 | News                            |  26 | News                            |  24 |\n",
       "| 10 | INTERACT                        |   42 | News                                      |  31 | Advanced Search                 |  26 | Contact Us                      |  17 | lib.montana.edu/request/        |  22 |\n",
       "\n"
      ],
      "text/plain": [
       "   one_Name                        no_clicks_version_1\n",
       "1  Montana State University - Home 1291               \n",
       "2  FIND                             842               \n",
       "3  s.q                              508               \n",
       "4  lib.montana.edu/find/            166               \n",
       "5  REQUEST                          151               \n",
       "6  Hours                            102               \n",
       "7  Search                           101               \n",
       "8  MSU                               55               \n",
       "9  nav-item-dot                      46               \n",
       "10 INTERACT                          42               \n",
       "   two_Name                                  no_clicks_version_2\n",
       "1  FIND                                      502                \n",
       "2  s.q                                       357                \n",
       "3  lib.montana.edu/find/                     171                \n",
       "4  Montana State University Libraries - Home  83                \n",
       "5  Hours                                      74                \n",
       "6  REQUEST                                    57                \n",
       "7  CONNECT                                    53                \n",
       "8  Search                                     47                \n",
       "9  lib.montana.edu/request/                   31                \n",
       "10 News                                       31                \n",
       "   three_Name                      no_clicks_version_3\n",
       "1  FIND                            587                \n",
       "2  s.q                             325                \n",
       "3  lib.montana.edu/find/           142                \n",
       "4  Montana State University - Home  83                \n",
       "5  Hours                            76                \n",
       "6  REQUEST                          63                \n",
       "7  Search                           50                \n",
       "8  News                             45                \n",
       "9  slideshow-right                  35                \n",
       "10 Advanced Search                  26                \n",
       "   four_Name                       no_clicks_version_4\n",
       "1  FIND                            631                \n",
       "2  s.q                             364                \n",
       "3  lib.montana.edu/find/           139                \n",
       "4  Montana State University - Home 122                \n",
       "5  REQUEST                          72                \n",
       "6  Hours                            68                \n",
       "7  Search                           59                \n",
       "8  HELP                             38                \n",
       "9  News                             26                \n",
       "10 Contact Us                       17                \n",
       "   five_Name                       no_clicks_version_5\n",
       "1  FIND                            397                \n",
       "2  s.q                             323                \n",
       "3  lib.montana.edu/find/           106                \n",
       "4  Search                           85                \n",
       "5  Hours                            81                \n",
       "6  REQUEST                          57                \n",
       "7  Montana State University - Home  49                \n",
       "8  SERVICES                         45                \n",
       "9  News                             24                \n",
       "10 lib.montana.edu/request/         22                "
      ]
     },
     "metadata": {},
     "output_type": "display_data"
    }
   ],
   "source": [
    "# Using select to index out the working columns\n",
    "df <- df %>%\n",
    "select(one_Name,no_clicks_version_1,two_Name,no_clicks_version_2,three_Name,no_clicks_version_3,\n",
    "       four_Name,no_clicks_version_4,five_Name,no_clicks_version_5)\n",
    "head(df,10)"
   ]
  },
  {
   "cell_type": "markdown",
   "metadata": {},
   "source": [
    "# A/B/C/D_testing"
   ]
  },
  {
   "cell_type": "code",
   "execution_count": 14,
   "metadata": {},
   "outputs": [
    {
     "name": "stderr",
     "output_type": "stream",
     "text": [
      "Warning message in mean.default(x):\n",
      "“argument is not numeric or logical: returning NA”\n"
     ]
    },
    {
     "ename": "ERROR",
     "evalue": "Error in var(x): 'x' is NULL\n",
     "output_type": "error",
     "traceback": [
      "Error in var(x): 'x' is NULL\nTraceback:\n",
      "1. t.test(df$version_3, df$version_2, alternative = \"two.sided\", \n .     var.equal = TRUE)",
      "2. t.test.default(df$version_3, df$version_2, alternative = \"two.sided\", \n .     var.equal = TRUE)",
      "3. var(x)"
     ]
    }
   ],
   "source": [
    "t.test(df$version_3, df$version_2, alternative='two.sided', var.equal=TRUE )"
   ]
  },
  {
   "cell_type": "markdown",
   "metadata": {},
   "source": [
    "x,y: numeric vectors  \n",
    "\n",
    "alternative: the alternative hypothesis. Allowed value is one of “two.sided” (default), “greater” or “less”.   \n",
    "\n",
    "var.equal: a logical variable indicating whether to treat the two variances as being equal. If TRUE then the pooled variance is used to estimate the variance otherwise the Welch test is used.  "
   ]
  },
  {
   "cell_type": "code",
   "execution_count": null,
   "metadata": {},
   "outputs": [],
   "source": [
    "t.test(version_3 ~ version_2)"
   ]
  },
  {
   "cell_type": "code",
   "execution_count": null,
   "metadata": {},
   "outputs": [],
   "source": [
    "colnames(df)"
   ]
  },
  {
   "cell_type": "code",
   "execution_count": null,
   "metadata": {},
   "outputs": [],
   "source": []
  }
 ],
 "metadata": {
  "kernelspec": {
   "display_name": "R",
   "language": "R",
   "name": "ir"
  },
  "language_info": {
   "codemirror_mode": "r",
   "file_extension": ".r",
   "mimetype": "text/x-r-source",
   "name": "R",
   "pygments_lexer": "r",
   "version": "4.0.2"
  }
 },
 "nbformat": 4,
 "nbformat_minor": 4
}
