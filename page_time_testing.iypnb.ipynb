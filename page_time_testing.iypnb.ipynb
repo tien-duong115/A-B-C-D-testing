{
 "cells": [
  {
   "cell_type": "markdown",
   "metadata": {
    "slideshow": {
     "slide_type": "slide"
    }
   },
   "source": [
    "##### Group members: Nicole Huffman, Tien Duong"
   ]
  },
  {
   "cell_type": "markdown",
   "metadata": {
    "slideshow": {
     "slide_type": "slide"
    }
   },
   "source": [
    "## Read me\n",
    "- The dataset contains 45,811,883 user visits to the Today Module. For each visit, both the user and each of the candidate articles are associated with a feature vector of dimension 6 (including a constant feature), constructed by conjoint analysis with a bilinear model [1].\n",
    "- Our dataset consists of User clicks taken from Yahoo's Front Page Today Module. They vary from different times of day.\n",
    "- The different column names consists of:  \n",
    "`. Timestamp (e.g., 1241160900) \n",
    ". Displayed_article_id (e.g., 109513)  \n",
    ". User_click (0 for no-click and 1 for click)  \n",
    ". Strings (\"|user\" and \"|{article_id}\" indicate the start of user and article features)  \n",
    ". Features (\"feature_id:feature_value\" pairs, and feature_id starts from 1)`  \n",
    "#### Objective:  \n",
    "- A/B testing to determine the number of User clicks between different times.\n",
    "- Will use a T-test to measure the differences.  \n",
    "#### Hypothesis:  \n",
    "- `Our hypothesis: There will be a significant difference in the number of User clicks depending on the day!`\n",
    "- Null hypothesis: There is no significant difference between User clicks and time of day.\n",
    "- Alternative hypothesis: There is a significant difference between User clicks and time of day."
   ]
  },
  {
   "cell_type": "code",
   "execution_count": 2,
   "metadata": {
    "collapsed": true,
    "slideshow": {
     "slide_type": "slide"
    }
   },
   "outputs": [
    {
     "name": "stderr",
     "output_type": "stream",
     "text": [
      "\n",
      "Attaching package: ‘dplyr’\n",
      "\n",
      "\n",
      "The following objects are masked from ‘package:data.table’:\n",
      "\n",
      "    between, first, last\n",
      "\n",
      "\n",
      "The following objects are masked from ‘package:stats’:\n",
      "\n",
      "    filter, lag\n",
      "\n",
      "\n",
      "The following objects are masked from ‘package:base’:\n",
      "\n",
      "    intersect, setdiff, setequal, union\n",
      "\n",
      "\n"
     ]
    }
   ],
   "source": [
    "# Importing libraries\n",
    "\n",
    "#install.packages(\"data.table\")\n",
    "#install.packages(\"anytime\")\n",
    "#install.packages(\"pwr\")\n",
    "#install.packages(\"dplyr\")\n",
    "#install.packages(\"ggplot2\")\n",
    "library(data.table)\n",
    "library(anytime)\n",
    "library(pwr)\n",
    "library(dplyr)\n",
    "library(ggplot2)"
   ]
  },
  {
   "cell_type": "code",
   "execution_count": 20,
   "metadata": {
    "scrolled": true,
    "slideshow": {
     "slide_type": "slide"
    }
   },
   "outputs": [],
   "source": [
    "data <- read.csv('test_set_1') # Read in CSV files\n",
    "data_2 <- read.csv('test_set_2')\n"
   ]
  },
  {
   "cell_type": "code",
   "execution_count": 21,
   "metadata": {
    "scrolled": false,
    "slideshow": {
     "slide_type": "slide"
    }
   },
   "outputs": [
    {
     "data": {
      "text/html": [
       "<table>\n",
       "<caption>A data.frame: 6 × 5</caption>\n",
       "<thead>\n",
       "\t<tr><th></th><th scope=col>X</th><th scope=col>X1241160900</th><th scope=col>X109513</th><th scope=col>X0</th><th scope=col>X.user</th></tr>\n",
       "\t<tr><th></th><th scope=col>&lt;int&gt;</th><th scope=col>&lt;chr&gt;</th><th scope=col>&lt;chr&gt;</th><th scope=col>&lt;chr&gt;</th><th scope=col>&lt;chr&gt;</th></tr>\n",
       "</thead>\n",
       "<tbody>\n",
       "\t<tr><th scope=row>1</th><td>1</td><td>1241160900</td><td>109484</td><td>0</td><td>|user</td></tr>\n",
       "\t<tr><th scope=row>2</th><td>2</td><td>1241160900</td><td>109495</td><td>0</td><td>|user</td></tr>\n",
       "\t<tr><th scope=row>3</th><td>3</td><td>1241160900</td><td>109494</td><td>0</td><td>|user</td></tr>\n",
       "\t<tr><th scope=row>4</th><td>4</td><td>1241160900</td><td>109492</td><td>0</td><td>|user</td></tr>\n",
       "\t<tr><th scope=row>5</th><td>5</td><td>1241160900</td><td>109502</td><td>0</td><td>|user</td></tr>\n",
       "\t<tr><th scope=row>6</th><td>6</td><td>1241160900</td><td>109473</td><td>0</td><td>|user</td></tr>\n",
       "</tbody>\n",
       "</table>\n"
      ],
      "text/latex": [
       "A data.frame: 6 × 5\n",
       "\\begin{tabular}{r|lllll}\n",
       "  & X & X1241160900 & X109513 & X0 & X.user\\\\\n",
       "  & <int> & <chr> & <chr> & <chr> & <chr>\\\\\n",
       "\\hline\n",
       "\t1 & 1 & 1241160900 & 109484 & 0 & \\textbar{}user\\\\\n",
       "\t2 & 2 & 1241160900 & 109495 & 0 & \\textbar{}user\\\\\n",
       "\t3 & 3 & 1241160900 & 109494 & 0 & \\textbar{}user\\\\\n",
       "\t4 & 4 & 1241160900 & 109492 & 0 & \\textbar{}user\\\\\n",
       "\t5 & 5 & 1241160900 & 109502 & 0 & \\textbar{}user\\\\\n",
       "\t6 & 6 & 1241160900 & 109473 & 0 & \\textbar{}user\\\\\n",
       "\\end{tabular}\n"
      ],
      "text/markdown": [
       "\n",
       "A data.frame: 6 × 5\n",
       "\n",
       "| <!--/--> | X &lt;int&gt; | X1241160900 &lt;chr&gt; | X109513 &lt;chr&gt; | X0 &lt;chr&gt; | X.user &lt;chr&gt; |\n",
       "|---|---|---|---|---|---|\n",
       "| 1 | 1 | 1241160900 | 109484 | 0 | |user |\n",
       "| 2 | 2 | 1241160900 | 109495 | 0 | |user |\n",
       "| 3 | 3 | 1241160900 | 109494 | 0 | |user |\n",
       "| 4 | 4 | 1241160900 | 109492 | 0 | |user |\n",
       "| 5 | 5 | 1241160900 | 109502 | 0 | |user |\n",
       "| 6 | 6 | 1241160900 | 109473 | 0 | |user |\n",
       "\n"
      ],
      "text/plain": [
       "  X X1241160900 X109513 X0 X.user\n",
       "1 1 1241160900  109484  0  |user \n",
       "2 2 1241160900  109495  0  |user \n",
       "3 3 1241160900  109494  0  |user \n",
       "4 4 1241160900  109492  0  |user \n",
       "5 5 1241160900  109502  0  |user \n",
       "6 6 1241160900  109473  0  |user "
      ]
     },
     "metadata": {},
     "output_type": "display_data"
    },
    {
     "data": {
      "text/html": [
       "<table>\n",
       "<caption>A data.frame: 6 × 5</caption>\n",
       "<thead>\n",
       "\t<tr><th></th><th scope=col>X</th><th scope=col>X1241938500</th><th scope=col>X109766</th><th scope=col>X0</th><th scope=col>X.user</th></tr>\n",
       "\t<tr><th></th><th scope=col>&lt;int&gt;</th><th scope=col>&lt;int&gt;</th><th scope=col>&lt;int&gt;</th><th scope=col>&lt;int&gt;</th><th scope=col>&lt;chr&gt;</th></tr>\n",
       "</thead>\n",
       "<tbody>\n",
       "\t<tr><th scope=row>1</th><td>1</td><td>1241938500</td><td>109763</td><td>0</td><td>|user</td></tr>\n",
       "\t<tr><th scope=row>2</th><td>2</td><td>1241938500</td><td>109764</td><td>0</td><td>|user</td></tr>\n",
       "\t<tr><th scope=row>3</th><td>3</td><td>1241938500</td><td>109697</td><td>0</td><td>|user</td></tr>\n",
       "\t<tr><th scope=row>4</th><td>4</td><td>1241938500</td><td>109723</td><td>0</td><td>|user</td></tr>\n",
       "\t<tr><th scope=row>5</th><td>5</td><td>1241938500</td><td>109684</td><td>0</td><td>|user</td></tr>\n",
       "\t<tr><th scope=row>6</th><td>6</td><td>1241938500</td><td>109697</td><td>0</td><td>|user</td></tr>\n",
       "</tbody>\n",
       "</table>\n"
      ],
      "text/latex": [
       "A data.frame: 6 × 5\n",
       "\\begin{tabular}{r|lllll}\n",
       "  & X & X1241938500 & X109766 & X0 & X.user\\\\\n",
       "  & <int> & <int> & <int> & <int> & <chr>\\\\\n",
       "\\hline\n",
       "\t1 & 1 & 1241938500 & 109763 & 0 & \\textbar{}user\\\\\n",
       "\t2 & 2 & 1241938500 & 109764 & 0 & \\textbar{}user\\\\\n",
       "\t3 & 3 & 1241938500 & 109697 & 0 & \\textbar{}user\\\\\n",
       "\t4 & 4 & 1241938500 & 109723 & 0 & \\textbar{}user\\\\\n",
       "\t5 & 5 & 1241938500 & 109684 & 0 & \\textbar{}user\\\\\n",
       "\t6 & 6 & 1241938500 & 109697 & 0 & \\textbar{}user\\\\\n",
       "\\end{tabular}\n"
      ],
      "text/markdown": [
       "\n",
       "A data.frame: 6 × 5\n",
       "\n",
       "| <!--/--> | X &lt;int&gt; | X1241938500 &lt;int&gt; | X109766 &lt;int&gt; | X0 &lt;int&gt; | X.user &lt;chr&gt; |\n",
       "|---|---|---|---|---|---|\n",
       "| 1 | 1 | 1241938500 | 109763 | 0 | |user |\n",
       "| 2 | 2 | 1241938500 | 109764 | 0 | |user |\n",
       "| 3 | 3 | 1241938500 | 109697 | 0 | |user |\n",
       "| 4 | 4 | 1241938500 | 109723 | 0 | |user |\n",
       "| 5 | 5 | 1241938500 | 109684 | 0 | |user |\n",
       "| 6 | 6 | 1241938500 | 109697 | 0 | |user |\n",
       "\n"
      ],
      "text/plain": [
       "  X X1241938500 X109766 X0 X.user\n",
       "1 1 1241938500  109763  0  |user \n",
       "2 2 1241938500  109764  0  |user \n",
       "3 3 1241938500  109697  0  |user \n",
       "4 4 1241938500  109723  0  |user \n",
       "5 5 1241938500  109684  0  |user \n",
       "6 6 1241938500  109697  0  |user "
      ]
     },
     "metadata": {},
     "output_type": "display_data"
    }
   ],
   "source": [
    "head(data)\n",
    "head(data_2)"
   ]
  },
  {
   "cell_type": "markdown",
   "metadata": {
    "slideshow": {
     "slide_type": "slide"
    }
   },
   "source": [
    "### Data Wrangling\n",
    "\n",
    "#### - Dataset 1\n",
    "1. We are going to convert the datatype to a timestamp  \n",
    "2. Changing the column names to be distinguishable  \n",
    "3. Drop all NA rows  \n",
    "4. Convert all the user click display names to numeric  \n",
    "\n",
    "#### - Dataset 2  \n",
    "1. We are going to convert the datatype to a timestamp  \n",
    "2. Changing the column names to be distinguishable  \n",
    "3. Drop all NA rows  \n",
    "4. Convert all the user click display names to numeric  "
   ]
  },
  {
   "cell_type": "code",
   "execution_count": 22,
   "metadata": {
    "slideshow": {
     "slide_type": "slide"
    }
   },
   "outputs": [],
   "source": [
    "# Lets start with dataset 1\n",
    "\n",
    "oldnames = c(\"X1241160900\",\"X109513\",\"X0\",\"X.user\")\n",
    "newnames = c(\"datetime\",\"display_id\", \"user_click\", \"type\")\n",
    "\n",
    "data <- data %>% rename_at(vars(oldnames), ~ newnames)\n",
    "data <- data[complete.cases(data),] # drop all NA rows"
   ]
  },
  {
   "cell_type": "code",
   "execution_count": 23,
   "metadata": {
    "slideshow": {
     "slide_type": "slide"
    }
   },
   "outputs": [
    {
     "data": {
      "text/html": [
       "<table>\n",
       "<caption>A data.frame: 6 × 5</caption>\n",
       "<thead>\n",
       "\t<tr><th></th><th scope=col>X</th><th scope=col>datetime</th><th scope=col>display_id</th><th scope=col>user_click</th><th scope=col>type</th></tr>\n",
       "\t<tr><th></th><th scope=col>&lt;int&gt;</th><th scope=col>&lt;chr&gt;</th><th scope=col>&lt;chr&gt;</th><th scope=col>&lt;chr&gt;</th><th scope=col>&lt;chr&gt;</th></tr>\n",
       "</thead>\n",
       "<tbody>\n",
       "\t<tr><th scope=row>1</th><td>1</td><td>1241160900</td><td>109484</td><td>0</td><td>|user</td></tr>\n",
       "\t<tr><th scope=row>2</th><td>2</td><td>1241160900</td><td>109495</td><td>0</td><td>|user</td></tr>\n",
       "\t<tr><th scope=row>3</th><td>3</td><td>1241160900</td><td>109494</td><td>0</td><td>|user</td></tr>\n",
       "\t<tr><th scope=row>4</th><td>4</td><td>1241160900</td><td>109492</td><td>0</td><td>|user</td></tr>\n",
       "\t<tr><th scope=row>5</th><td>5</td><td>1241160900</td><td>109502</td><td>0</td><td>|user</td></tr>\n",
       "\t<tr><th scope=row>6</th><td>6</td><td>1241160900</td><td>109473</td><td>0</td><td>|user</td></tr>\n",
       "</tbody>\n",
       "</table>\n"
      ],
      "text/latex": [
       "A data.frame: 6 × 5\n",
       "\\begin{tabular}{r|lllll}\n",
       "  & X & datetime & display\\_id & user\\_click & type\\\\\n",
       "  & <int> & <chr> & <chr> & <chr> & <chr>\\\\\n",
       "\\hline\n",
       "\t1 & 1 & 1241160900 & 109484 & 0 & \\textbar{}user\\\\\n",
       "\t2 & 2 & 1241160900 & 109495 & 0 & \\textbar{}user\\\\\n",
       "\t3 & 3 & 1241160900 & 109494 & 0 & \\textbar{}user\\\\\n",
       "\t4 & 4 & 1241160900 & 109492 & 0 & \\textbar{}user\\\\\n",
       "\t5 & 5 & 1241160900 & 109502 & 0 & \\textbar{}user\\\\\n",
       "\t6 & 6 & 1241160900 & 109473 & 0 & \\textbar{}user\\\\\n",
       "\\end{tabular}\n"
      ],
      "text/markdown": [
       "\n",
       "A data.frame: 6 × 5\n",
       "\n",
       "| <!--/--> | X &lt;int&gt; | datetime &lt;chr&gt; | display_id &lt;chr&gt; | user_click &lt;chr&gt; | type &lt;chr&gt; |\n",
       "|---|---|---|---|---|---|\n",
       "| 1 | 1 | 1241160900 | 109484 | 0 | |user |\n",
       "| 2 | 2 | 1241160900 | 109495 | 0 | |user |\n",
       "| 3 | 3 | 1241160900 | 109494 | 0 | |user |\n",
       "| 4 | 4 | 1241160900 | 109492 | 0 | |user |\n",
       "| 5 | 5 | 1241160900 | 109502 | 0 | |user |\n",
       "| 6 | 6 | 1241160900 | 109473 | 0 | |user |\n",
       "\n"
      ],
      "text/plain": [
       "  X datetime   display_id user_click type \n",
       "1 1 1241160900 109484     0          |user\n",
       "2 2 1241160900 109495     0          |user\n",
       "3 3 1241160900 109494     0          |user\n",
       "4 4 1241160900 109492     0          |user\n",
       "5 5 1241160900 109502     0          |user\n",
       "6 6 1241160900 109473     0          |user"
      ]
     },
     "metadata": {},
     "output_type": "display_data"
    }
   ],
   "source": [
    "head(data) # Checking to see if the code worked!"
   ]
  },
  {
   "cell_type": "code",
   "execution_count": 24,
   "metadata": {
    "collapsed": true,
    "slideshow": {
     "slide_type": "slide"
    }
   },
   "outputs": [
    {
     "name": "stderr",
     "output_type": "stream",
     "text": [
      "Warning message in anytime(as.numeric(data$datetime)):\n",
      "“NAs introduced by coercion”\n",
      "Warning message in eval(expr, envir, enclos):\n",
      "“NAs introduced by coercion”\n",
      "Warning message in eval(expr, envir, enclos):\n",
      "“NAs introduced by coercion”\n"
     ]
    }
   ],
   "source": [
    "# Converting date time (to datetime), user clicks and display_id (to numeric)\n",
    "\n",
    "data$datetime <- anytime(as.numeric(data$datetime))\n",
    "data$user_click <- as.numeric(as.character(data$user_click))\n",
    "data$display_id <- as.numeric(as.character(data$display_id))"
   ]
  },
  {
   "cell_type": "markdown",
   "metadata": {
    "slideshow": {
     "slide_type": "slide"
    }
   },
   "source": [
    "---"
   ]
  },
  {
   "cell_type": "code",
   "execution_count": 26,
   "metadata": {
    "slideshow": {
     "slide_type": "slide"
    }
   },
   "outputs": [],
   "source": [
    "# Repeat for dataset 2\n",
    "\n",
    "oldnames_2 = c(\"X1241938500\",\"X109766\",\"X0\",\"X.user\")\n",
    "newnames_2 = c(\"datetime\",\"display_id\", \"user_click\", \"type\")\n",
    "\n",
    "data_2<- data_2 %>% rename_at(vars(oldnames_2), ~ newnames_2)"
   ]
  },
  {
   "cell_type": "code",
   "execution_count": 27,
   "metadata": {
    "slideshow": {
     "slide_type": "slide"
    }
   },
   "outputs": [],
   "source": [
    "data_2$datetime <- anytime(as.numeric(data_2$datetime))\n",
    "data_2$user_click <- as.numeric(as.character(data_2$user_click))\n",
    "data_2$display_id <- as.numeric(as.character(data_2$display_id))\n",
    "data_2 <- data_2[complete.cases(data_2),]"
   ]
  },
  {
   "cell_type": "markdown",
   "metadata": {
    "slideshow": {
     "slide_type": "slide"
    }
   },
   "source": [
    "### Visualization\n",
    ". Plot dataset 1 and 2 with date time and user clicks"
   ]
  },
  {
   "cell_type": "code",
   "execution_count": 30,
   "metadata": {
    "collapsed": true,
    "slideshow": {
     "slide_type": "slide"
    }
   },
   "outputs": [
    {
     "name": "stderr",
     "output_type": "stream",
     "text": [
      "`summarise()` ungrouping output (override with `.groups` argument)\n",
      "\n"
     ]
    }
   ],
   "source": [
    "plot_1 <- data %>% group_by(datetime) %>% \n",
    "summarize(f = sum(user_click ))\n",
    "plot_1 <- data_frame(plot_1)"
   ]
  },
  {
   "cell_type": "code",
   "execution_count": 31,
   "metadata": {
    "slideshow": {
     "slide_type": "slide"
    }
   },
   "outputs": [
    {
     "data": {
      "text/html": [
       "<table>\n",
       "<caption>A tibble: 9 × 2</caption>\n",
       "<thead>\n",
       "\t<tr><th scope=col>datetime</th><th scope=col>f</th></tr>\n",
       "\t<tr><th scope=col>&lt;dttm&gt;</th><th scope=col>&lt;dbl&gt;</th></tr>\n",
       "</thead>\n",
       "<tbody>\n",
       "\t<tr><td>2009-04-30 23:55:00</td><td> 56</td></tr>\n",
       "\t<tr><td>2009-05-01 00:00:00</td><td>218</td></tr>\n",
       "\t<tr><td>2009-05-01 00:05:00</td><td>217</td></tr>\n",
       "\t<tr><td>2009-05-01 00:10:00</td><td>197</td></tr>\n",
       "\t<tr><td>2009-05-01 00:15:00</td><td>198</td></tr>\n",
       "\t<tr><td>2009-05-01 00:20:00</td><td>157</td></tr>\n",
       "\t<tr><td>2009-05-01 00:25:00</td><td>210</td></tr>\n",
       "\t<tr><td>2009-05-01 00:30:00</td><td> 46</td></tr>\n",
       "\t<tr><td>NA</td><td> NA</td></tr>\n",
       "</tbody>\n",
       "</table>\n"
      ],
      "text/latex": [
       "A tibble: 9 × 2\n",
       "\\begin{tabular}{ll}\n",
       " datetime & f\\\\\n",
       " <dttm> & <dbl>\\\\\n",
       "\\hline\n",
       "\t 2009-04-30 23:55:00 &  56\\\\\n",
       "\t 2009-05-01 00:00:00 & 218\\\\\n",
       "\t 2009-05-01 00:05:00 & 217\\\\\n",
       "\t 2009-05-01 00:10:00 & 197\\\\\n",
       "\t 2009-05-01 00:15:00 & 198\\\\\n",
       "\t 2009-05-01 00:20:00 & 157\\\\\n",
       "\t 2009-05-01 00:25:00 & 210\\\\\n",
       "\t 2009-05-01 00:30:00 &  46\\\\\n",
       "\t NA &  NA\\\\\n",
       "\\end{tabular}\n"
      ],
      "text/markdown": [
       "\n",
       "A tibble: 9 × 2\n",
       "\n",
       "| datetime &lt;dttm&gt; | f &lt;dbl&gt; |\n",
       "|---|---|\n",
       "| 2009-04-30 23:55:00 |  56 |\n",
       "| 2009-05-01 00:00:00 | 218 |\n",
       "| 2009-05-01 00:05:00 | 217 |\n",
       "| 2009-05-01 00:10:00 | 197 |\n",
       "| 2009-05-01 00:15:00 | 198 |\n",
       "| 2009-05-01 00:20:00 | 157 |\n",
       "| 2009-05-01 00:25:00 | 210 |\n",
       "| 2009-05-01 00:30:00 |  46 |\n",
       "| NA |  NA |\n",
       "\n"
      ],
      "text/plain": [
       "  datetime            f  \n",
       "1 2009-04-30 23:55:00  56\n",
       "2 2009-05-01 00:00:00 218\n",
       "3 2009-05-01 00:05:00 217\n",
       "4 2009-05-01 00:10:00 197\n",
       "5 2009-05-01 00:15:00 198\n",
       "6 2009-05-01 00:20:00 157\n",
       "7 2009-05-01 00:25:00 210\n",
       "8 2009-05-01 00:30:00  46\n",
       "9 <NA>                 NA"
      ]
     },
     "metadata": {},
     "output_type": "display_data"
    }
   ],
   "source": [
    "plot_1"
   ]
  },
  {
   "cell_type": "code",
   "execution_count": 58,
   "metadata": {
    "slideshow": {
     "slide_type": "slide"
    }
   },
   "outputs": [
    {
     "name": "stderr",
     "output_type": "stream",
     "text": [
      "Warning message:\n",
      "“Use of `plot_1$datetime` is discouraged. Use `datetime` instead.”\n",
      "Warning message:\n",
      "“Removed 1 row(s) containing missing values (geom_path).”\n"
     ]
    },
    {
     "data": {
      "image/png": "[encoded data removed]",
      "text/plain": [
       "plot without title"
      ]
     },
     "metadata": {
      "image/png": {
       "height": 420,
       "width": 420
      }
     },
     "output_type": "display_data"
    }
   ],
   "source": [
    "plot_1$datetime <- as.POSIXct(plot_1$datetime, format=\"%H:%M:%S\")\n",
    "p <- ggplot(data=plot_1, aes(plot_1$datetime,f)) + geom_line(color=\"navy\",size=2)\n",
    "\n",
    "p + ggtitle(\"Plot of Number of Clicks between 04-30-2009 to 05-01-2009\") +\n",
    "  xlab(\"Time (Minutes)\") + ylab(\"User Clicks\") + theme(plot.title = element_text(color=\"hot pink\", size=16, face=\"bold.italic\")) "
   ]
  },
  {
   "cell_type": "code",
   "execution_count": 39,
   "metadata": {
    "collapsed": true,
    "slideshow": {
     "slide_type": "slide"
    }
   },
   "outputs": [
    {
     "name": "stderr",
     "output_type": "stream",
     "text": [
      "`summarise()` ungrouping output (override with `.groups` argument)\n",
      "\n"
     ]
    }
   ],
   "source": [
    "plot_2 <- data_2 %>% group_by(datetime) %>%\n",
    "summarize(f = sum(user_click ))\n",
    "plot_2 <- data_frame(plot_2)"
   ]
  },
  {
   "cell_type": "code",
   "execution_count": 40,
   "metadata": {
    "slideshow": {
     "slide_type": "slide"
    }
   },
   "outputs": [
    {
     "data": {
      "text/html": [
       "<table>\n",
       "<caption>A tibble: 8 × 2</caption>\n",
       "<thead>\n",
       "\t<tr><th scope=col>datetime</th><th scope=col>f</th></tr>\n",
       "\t<tr><th scope=col>&lt;dttm&gt;</th><th scope=col>&lt;dbl&gt;</th></tr>\n",
       "</thead>\n",
       "<tbody>\n",
       "\t<tr><td>2009-05-09 23:55:00</td><td> 44</td></tr>\n",
       "\t<tr><td>2009-05-10 00:00:00</td><td>191</td></tr>\n",
       "\t<tr><td>2009-05-10 00:05:00</td><td>187</td></tr>\n",
       "\t<tr><td>2009-05-10 00:10:00</td><td>162</td></tr>\n",
       "\t<tr><td>2009-05-10 00:15:00</td><td>163</td></tr>\n",
       "\t<tr><td>2009-05-10 00:20:00</td><td>155</td></tr>\n",
       "\t<tr><td>2009-05-10 00:25:00</td><td>157</td></tr>\n",
       "\t<tr><td>2009-05-10 00:30:00</td><td>153</td></tr>\n",
       "</tbody>\n",
       "</table>\n"
      ],
      "text/latex": [
       "A tibble: 8 × 2\n",
       "\\begin{tabular}{ll}\n",
       " datetime & f\\\\\n",
       " <dttm> & <dbl>\\\\\n",
       "\\hline\n",
       "\t 2009-05-09 23:55:00 &  44\\\\\n",
       "\t 2009-05-10 00:00:00 & 191\\\\\n",
       "\t 2009-05-10 00:05:00 & 187\\\\\n",
       "\t 2009-05-10 00:10:00 & 162\\\\\n",
       "\t 2009-05-10 00:15:00 & 163\\\\\n",
       "\t 2009-05-10 00:20:00 & 155\\\\\n",
       "\t 2009-05-10 00:25:00 & 157\\\\\n",
       "\t 2009-05-10 00:30:00 & 153\\\\\n",
       "\\end{tabular}\n"
      ],
      "text/markdown": [
       "\n",
       "A tibble: 8 × 2\n",
       "\n",
       "| datetime &lt;dttm&gt; | f &lt;dbl&gt; |\n",
       "|---|---|\n",
       "| 2009-05-09 23:55:00 |  44 |\n",
       "| 2009-05-10 00:00:00 | 191 |\n",
       "| 2009-05-10 00:05:00 | 187 |\n",
       "| 2009-05-10 00:10:00 | 162 |\n",
       "| 2009-05-10 00:15:00 | 163 |\n",
       "| 2009-05-10 00:20:00 | 155 |\n",
       "| 2009-05-10 00:25:00 | 157 |\n",
       "| 2009-05-10 00:30:00 | 153 |\n",
       "\n"
      ],
      "text/plain": [
       "  datetime            f  \n",
       "1 2009-05-09 23:55:00  44\n",
       "2 2009-05-10 00:00:00 191\n",
       "3 2009-05-10 00:05:00 187\n",
       "4 2009-05-10 00:10:00 162\n",
       "5 2009-05-10 00:15:00 163\n",
       "6 2009-05-10 00:20:00 155\n",
       "7 2009-05-10 00:25:00 157\n",
       "8 2009-05-10 00:30:00 153"
      ]
     },
     "metadata": {},
     "output_type": "display_data"
    }
   ],
   "source": [
    "plot_2"
   ]
  },
  {
   "cell_type": "code",
   "execution_count": 59,
   "metadata": {
    "slideshow": {
     "slide_type": "slide"
    }
   },
   "outputs": [
    {
     "name": "stderr",
     "output_type": "stream",
     "text": [
      "Warning message:\n",
      "“Use of `plot_2$datetime` is discouraged. Use `datetime` instead.”\n"
     ]
    },
    {
     "data": {
      "image/png": "[encoded data removed]",
      "text/plain": [
       "plot without title"
      ]
     },
     "metadata": {
      "image/png": {
       "height": 420,
       "width": 420
      }
     },
     "output_type": "display_data"
    }
   ],
   "source": [
    "plot_2$datetime <- as.POSIXct(plot_2$datetime, format=\"%H:%M:%S\")\n",
    "p2 <- ggplot(data=plot_2, aes(plot_2$datetime,f)) + geom_line(color=\"navy\",size=2)\n",
    "\n",
    "p2 + ggtitle(\"Plot of Number of Clicks between 05-09-2009 to 05-10-2009\") +\n",
    "  xlab(\"Time (Minutes)\") + ylab(\"User Clicks\") + theme(plot.title = element_text(color=\"hot pink\", size=16, face=\"bold.italic\"))"
   ]
  },
  {
   "cell_type": "markdown",
   "metadata": {
    "slideshow": {
     "slide_type": "slide"
    }
   },
   "source": [
    "Based on the visualization of these two datasets, there are significantly more user clicks in dataset 1 (Between 04-30-2009 to 05-01-2009) than in dataset 2 (Between 05-09-2009 to 05-10-2009). However, there was a steep decline in clicks by the end of 30 minutes shown in dataset 1 as opposed to dataset 2, where the trend was more stable/consistent."
   ]
  },
  {
   "cell_type": "markdown",
   "metadata": {
    "slideshow": {
     "slide_type": "slide"
    }
   },
   "source": [
    "### Testing\n",
    ". Add up all the user clicks and grouped by display ID  \n",
    ". Arranged numbers by total clicks  "
   ]
  },
  {
   "cell_type": "code",
   "execution_count": 74,
   "metadata": {
    "slideshow": {
     "slide_type": "slide"
    }
   },
   "outputs": [
    {
     "name": "stderr",
     "output_type": "stream",
     "text": [
      "`summarise()` ungrouping output (override with `.groups` argument)\n",
      "\n"
     ]
    },
    {
     "data": {
      "text/html": [
       "<table>\n",
       "<caption>A tibble: 21 × 2</caption>\n",
       "<thead>\n",
       "\t<tr><th scope=col>display_id</th><th scope=col>total_click</th></tr>\n",
       "\t<tr><th scope=col>&lt;dbl&gt;</th><th scope=col>&lt;dbl&gt;</th></tr>\n",
       "</thead>\n",
       "<tbody>\n",
       "\t<tr><td>109519</td><td>11</td></tr>\n",
       "\t<tr><td>109492</td><td>24</td></tr>\n",
       "\t<tr><td>109515</td><td>33</td></tr>\n",
       "\t<tr><td>109501</td><td>39</td></tr>\n",
       "\t<tr><td>109495</td><td>41</td></tr>\n",
       "\t<tr><td>109498</td><td>52</td></tr>\n",
       "\t<tr><td>109512</td><td>57</td></tr>\n",
       "\t<tr><td>109453</td><td>60</td></tr>\n",
       "\t<tr><td>109506</td><td>62</td></tr>\n",
       "\t<tr><td>109505</td><td>65</td></tr>\n",
       "\t<tr><td>109509</td><td>67</td></tr>\n",
       "\t<tr><td>109484</td><td>73</td></tr>\n",
       "\t<tr><td>109473</td><td>74</td></tr>\n",
       "\t<tr><td>109511</td><td>75</td></tr>\n",
       "\t<tr><td>109510</td><td>76</td></tr>\n",
       "\t<tr><td>109513</td><td>77</td></tr>\n",
       "\t<tr><td>109502</td><td>78</td></tr>\n",
       "\t<tr><td>109514</td><td>78</td></tr>\n",
       "\t<tr><td>109508</td><td>81</td></tr>\n",
       "\t<tr><td>109494</td><td>84</td></tr>\n",
       "\t<tr><td>109503</td><td>92</td></tr>\n",
       "</tbody>\n",
       "</table>\n"
      ],
      "text/latex": [
       "A tibble: 21 × 2\n",
       "\\begin{tabular}{ll}\n",
       " display\\_id & total\\_click\\\\\n",
       " <dbl> & <dbl>\\\\\n",
       "\\hline\n",
       "\t 109519 & 11\\\\\n",
       "\t 109492 & 24\\\\\n",
       "\t 109515 & 33\\\\\n",
       "\t 109501 & 39\\\\\n",
       "\t 109495 & 41\\\\\n",
       "\t 109498 & 52\\\\\n",
       "\t 109512 & 57\\\\\n",
       "\t 109453 & 60\\\\\n",
       "\t 109506 & 62\\\\\n",
       "\t 109505 & 65\\\\\n",
       "\t 109509 & 67\\\\\n",
       "\t 109484 & 73\\\\\n",
       "\t 109473 & 74\\\\\n",
       "\t 109511 & 75\\\\\n",
       "\t 109510 & 76\\\\\n",
       "\t 109513 & 77\\\\\n",
       "\t 109502 & 78\\\\\n",
       "\t 109514 & 78\\\\\n",
       "\t 109508 & 81\\\\\n",
       "\t 109494 & 84\\\\\n",
       "\t 109503 & 92\\\\\n",
       "\\end{tabular}\n"
      ],
      "text/markdown": [
       "\n",
       "A tibble: 21 × 2\n",
       "\n",
       "| display_id &lt;dbl&gt; | total_click &lt;dbl&gt; |\n",
       "|---|---|\n",
       "| 109519 | 11 |\n",
       "| 109492 | 24 |\n",
       "| 109515 | 33 |\n",
       "| 109501 | 39 |\n",
       "| 109495 | 41 |\n",
       "| 109498 | 52 |\n",
       "| 109512 | 57 |\n",
       "| 109453 | 60 |\n",
       "| 109506 | 62 |\n",
       "| 109505 | 65 |\n",
       "| 109509 | 67 |\n",
       "| 109484 | 73 |\n",
       "| 109473 | 74 |\n",
       "| 109511 | 75 |\n",
       "| 109510 | 76 |\n",
       "| 109513 | 77 |\n",
       "| 109502 | 78 |\n",
       "| 109514 | 78 |\n",
       "| 109508 | 81 |\n",
       "| 109494 | 84 |\n",
       "| 109503 | 92 |\n",
       "\n"
      ],
      "text/plain": [
       "   display_id total_click\n",
       "1  109519     11         \n",
       "2  109492     24         \n",
       "3  109515     33         \n",
       "4  109501     39         \n",
       "5  109495     41         \n",
       "6  109498     52         \n",
       "7  109512     57         \n",
       "8  109453     60         \n",
       "9  109506     62         \n",
       "10 109505     65         \n",
       "11 109509     67         \n",
       "12 109484     73         \n",
       "13 109473     74         \n",
       "14 109511     75         \n",
       "15 109510     76         \n",
       "16 109513     77         \n",
       "17 109502     78         \n",
       "18 109514     78         \n",
       "19 109508     81         \n",
       "20 109494     84         \n",
       "21 109503     92         "
      ]
     },
     "metadata": {},
     "output_type": "display_data"
    }
   ],
   "source": [
    "group_1 <- data %>% group_by(display_id) %>%\n",
    "summarise(total_click = sum(user_click)) %>% arrange(total_click)\n",
    "group_1 <- na.omit(group_1) # Excluding NA rows\n",
    "group_1"
   ]
  },
  {
   "cell_type": "code",
   "execution_count": 75,
   "metadata": {
    "slideshow": {
     "slide_type": "slide"
    }
   },
   "outputs": [
    {
     "name": "stderr",
     "output_type": "stream",
     "text": [
      "`summarise()` ungrouping output (override with `.groups` argument)\n",
      "\n"
     ]
    },
    {
     "data": {
      "text/html": [
       "<table>\n",
       "<caption>A tibble: 20 × 2</caption>\n",
       "<thead>\n",
       "\t<tr><th scope=col>display_id</th><th scope=col>total_click</th></tr>\n",
       "\t<tr><th scope=col>&lt;dbl&gt;</th><th scope=col>&lt;dbl&gt;</th></tr>\n",
       "</thead>\n",
       "<tbody>\n",
       "\t<tr><td>109723</td><td>35</td></tr>\n",
       "\t<tr><td>109764</td><td>36</td></tr>\n",
       "\t<tr><td>109697</td><td>37</td></tr>\n",
       "\t<tr><td>109760</td><td>40</td></tr>\n",
       "\t<tr><td>109756</td><td>46</td></tr>\n",
       "\t<tr><td>109767</td><td>48</td></tr>\n",
       "\t<tr><td>109741</td><td>49</td></tr>\n",
       "\t<tr><td>109763</td><td>54</td></tr>\n",
       "\t<tr><td>109731</td><td>56</td></tr>\n",
       "\t<tr><td>109755</td><td>62</td></tr>\n",
       "\t<tr><td>109684</td><td>65</td></tr>\n",
       "\t<tr><td>109761</td><td>65</td></tr>\n",
       "\t<tr><td>109766</td><td>68</td></tr>\n",
       "\t<tr><td>109769</td><td>71</td></tr>\n",
       "\t<tr><td>109746</td><td>72</td></tr>\n",
       "\t<tr><td>109745</td><td>73</td></tr>\n",
       "\t<tr><td>109686</td><td>74</td></tr>\n",
       "\t<tr><td>109758</td><td>80</td></tr>\n",
       "\t<tr><td>109740</td><td>89</td></tr>\n",
       "\t<tr><td>109762</td><td>92</td></tr>\n",
       "</tbody>\n",
       "</table>\n"
      ],
      "text/latex": [
       "A tibble: 20 × 2\n",
       "\\begin{tabular}{ll}\n",
       " display\\_id & total\\_click\\\\\n",
       " <dbl> & <dbl>\\\\\n",
       "\\hline\n",
       "\t 109723 & 35\\\\\n",
       "\t 109764 & 36\\\\\n",
       "\t 109697 & 37\\\\\n",
       "\t 109760 & 40\\\\\n",
       "\t 109756 & 46\\\\\n",
       "\t 109767 & 48\\\\\n",
       "\t 109741 & 49\\\\\n",
       "\t 109763 & 54\\\\\n",
       "\t 109731 & 56\\\\\n",
       "\t 109755 & 62\\\\\n",
       "\t 109684 & 65\\\\\n",
       "\t 109761 & 65\\\\\n",
       "\t 109766 & 68\\\\\n",
       "\t 109769 & 71\\\\\n",
       "\t 109746 & 72\\\\\n",
       "\t 109745 & 73\\\\\n",
       "\t 109686 & 74\\\\\n",
       "\t 109758 & 80\\\\\n",
       "\t 109740 & 89\\\\\n",
       "\t 109762 & 92\\\\\n",
       "\\end{tabular}\n"
      ],
      "text/markdown": [
       "\n",
       "A tibble: 20 × 2\n",
       "\n",
       "| display_id &lt;dbl&gt; | total_click &lt;dbl&gt; |\n",
       "|---|---|\n",
       "| 109723 | 35 |\n",
       "| 109764 | 36 |\n",
       "| 109697 | 37 |\n",
       "| 109760 | 40 |\n",
       "| 109756 | 46 |\n",
       "| 109767 | 48 |\n",
       "| 109741 | 49 |\n",
       "| 109763 | 54 |\n",
       "| 109731 | 56 |\n",
       "| 109755 | 62 |\n",
       "| 109684 | 65 |\n",
       "| 109761 | 65 |\n",
       "| 109766 | 68 |\n",
       "| 109769 | 71 |\n",
       "| 109746 | 72 |\n",
       "| 109745 | 73 |\n",
       "| 109686 | 74 |\n",
       "| 109758 | 80 |\n",
       "| 109740 | 89 |\n",
       "| 109762 | 92 |\n",
       "\n"
      ],
      "text/plain": [
       "   display_id total_click\n",
       "1  109723     35         \n",
       "2  109764     36         \n",
       "3  109697     37         \n",
       "4  109760     40         \n",
       "5  109756     46         \n",
       "6  109767     48         \n",
       "7  109741     49         \n",
       "8  109763     54         \n",
       "9  109731     56         \n",
       "10 109755     62         \n",
       "11 109684     65         \n",
       "12 109761     65         \n",
       "13 109766     68         \n",
       "14 109769     71         \n",
       "15 109746     72         \n",
       "16 109745     73         \n",
       "17 109686     74         \n",
       "18 109758     80         \n",
       "19 109740     89         \n",
       "20 109762     92         "
      ]
     },
     "metadata": {},
     "output_type": "display_data"
    }
   ],
   "source": [
    "group_2 <- data_2 %>% group_by(display_id) %>%\n",
    "summarise(total_click = sum(user_click)) %>% arrange(total_click)\n",
    "group_2 <- na.omit(group_2) # Excluding NA rows\n",
    "group_2"
   ]
  },
  {
   "cell_type": "code",
   "execution_count": 76,
   "metadata": {
    "slideshow": {
     "slide_type": "slide"
    }
   },
   "outputs": [],
   "source": [
    "# Created a new column for version 1 and version 2\n",
    "\n",
    "group_1$version <- 'group_1'\n",
    "group_2$version <- 'group_2'"
   ]
  },
  {
   "cell_type": "code",
   "execution_count": 83,
   "metadata": {
    "slideshow": {
     "slide_type": "slide"
    }
   },
   "outputs": [],
   "source": [
    "testing <- rbind(group_1,group_2) # Combined the two groups together\n",
    "# testing <- testing[c(1:57),]"
   ]
  },
  {
   "cell_type": "code",
   "execution_count": 85,
   "metadata": {
    "slideshow": {
     "slide_type": "slide"
    }
   },
   "outputs": [
    {
     "name": "stderr",
     "output_type": "stream",
     "text": [
      "`summarise()` ungrouping output (override with `.groups` argument)\n",
      "\n"
     ]
    },
    {
     "data": {
      "text/html": [
       "<table>\n",
       "<caption>A tibble: 2 × 4</caption>\n",
       "<thead>\n",
       "\t<tr><th scope=col>version</th><th scope=col>count</th><th scope=col>mean</th><th scope=col>sd</th></tr>\n",
       "\t<tr><th scope=col>&lt;chr&gt;</th><th scope=col>&lt;int&gt;</th><th scope=col>&lt;dbl&gt;</th><th scope=col>&lt;dbl&gt;</th></tr>\n",
       "</thead>\n",
       "<tbody>\n",
       "\t<tr><td>group_1</td><td>21</td><td>61.85714</td><td>21.36653</td></tr>\n",
       "\t<tr><td>group_2</td><td>20</td><td>60.60000</td><td>17.24254</td></tr>\n",
       "</tbody>\n",
       "</table>\n"
      ],
      "text/latex": [
       "A tibble: 2 × 4\n",
       "\\begin{tabular}{llll}\n",
       " version & count & mean & sd\\\\\n",
       " <chr> & <int> & <dbl> & <dbl>\\\\\n",
       "\\hline\n",
       "\t group\\_1 & 21 & 61.85714 & 21.36653\\\\\n",
       "\t group\\_2 & 20 & 60.60000 & 17.24254\\\\\n",
       "\\end{tabular}\n"
      ],
      "text/markdown": [
       "\n",
       "A tibble: 2 × 4\n",
       "\n",
       "| version &lt;chr&gt; | count &lt;int&gt; | mean &lt;dbl&gt; | sd &lt;dbl&gt; |\n",
       "|---|---|---|---|\n",
       "| group_1 | 21 | 61.85714 | 21.36653 |\n",
       "| group_2 | 20 | 60.60000 | 17.24254 |\n",
       "\n"
      ],
      "text/plain": [
       "  version count mean     sd      \n",
       "1 group_1 21    61.85714 21.36653\n",
       "2 group_2 20    60.60000 17.24254"
      ]
     },
     "metadata": {},
     "output_type": "display_data"
    }
   ],
   "source": [
    "testing %>% # Summarized the statistics of the groups\n",
    "group_by(version) %>%\n",
    "  summarise(\n",
    "    count = n(),\n",
    "    mean = mean(total_click, na.rm = TRUE),\n",
    "    sd = sd(total_click, na.rm = TRUE)\n",
    "  )"
   ]
  },
  {
   "cell_type": "code",
   "execution_count": 86,
   "metadata": {
    "slideshow": {
     "slide_type": "slide"
    }
   },
   "outputs": [
    {
     "data": {
      "image/png": "[encoded data removed]",
      "text/plain": [
       "plot without title"
      ]
     },
     "metadata": {
      "image/png": {
       "height": 420,
       "width": 420
      }
     },
     "output_type": "display_data"
    }
   ],
   "source": [
    "# Now lets run a boxplot for fun!\n",
    "\n",
    "ggplot(testing, aes(total_click, version)) + \n",
    "\tgeom_boxplot()"
   ]
  },
  {
   "cell_type": "code",
   "execution_count": 87,
   "metadata": {
    "slideshow": {
     "slide_type": "slide"
    }
   },
   "outputs": [
    {
     "data": {
      "text/plain": [
       "\n",
       "\tWelch Two Sample t-test\n",
       "\n",
       "data:  total_click by version\n",
       "t = 0.20779, df = 38, p-value = 0.8365\n",
       "alternative hypothesis: true difference in means is not equal to 0\n",
       "95 percent confidence interval:\n",
       " -10.99081  13.50510\n",
       "sample estimates:\n",
       "mean in group group_1 mean in group group_2 \n",
       "             61.85714              60.60000 \n"
      ]
     },
     "metadata": {},
     "output_type": "display_data"
    }
   ],
   "source": [
    "# T-test\n",
    "\n",
    "t.test(total_click~version, data=testing)"
   ]
  },
  {
   "cell_type": "markdown",
   "metadata": {
    "slideshow": {
     "slide_type": "slide"
    }
   },
   "source": [
    "### Results"
   ]
  },
  {
   "cell_type": "markdown",
   "metadata": {
    "slideshow": {
     "slide_type": "slide"
    }
   },
   "source": [
    "We rejected the null hypothesis, which stated that there was no significant difference between User clicks and time of day. Our findings supported the alternative hypothesis and what we predicted, which means that there is a significant difference on the number of clicks based upon a 30 minute interval and the time of day, t(38)= 0.2079, p<.05."
   ]
  }
 ],
 "metadata": {
  "kernelspec": {
   "display_name": "R",
   "language": "R",
   "name": "ir"
  },
  "language_info": {
   "codemirror_mode": "r",
   "file_extension": ".r",
   "mimetype": "text/x-r-source",
   "name": "R",
   "pygments_lexer": "r",
   "version": "4.0.2"
  }
 },
 "nbformat": 4,
 "nbformat_minor": 4
}
